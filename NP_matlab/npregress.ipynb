{
 "cells": [
  {
   "cell_type": "code",
   "execution_count": 54,
   "metadata": {},
   "outputs": [],
   "source": [
    "from scipy.stats import norm\n",
    "import numpy as np"
   ]
  },
  {
   "cell_type": "code",
   "execution_count": 55,
   "metadata": {},
   "outputs": [],
   "source": [
    "def npregress(Y, X, bandwidth, Xmidpoints=0):\n",
    "    \n",
    "    nrows, ncols = X.shape\n",
    "    \n",
    "    YX = np.concatenate((Y, X), axis=1)\n",
    "    YX = YX[YX[:,1].argsort()]\n",
    "    \n",
    "    Y = YX[:, 0]\n",
    "    X = YX[:, 1]\n",
    "    \n",
    "    meanX = np.mean(X)\n",
    "    stdX = np.std(X)\n",
    "    iota = np.ones([nrows, 1])\n",
    "    \n",
    "    if Xmidpoints == 0:\n",
    "        nrbins = 100\n",
    "        \n",
    "        lowerX = X[int(np.floor(0.01 * nrows + 1))]\n",
    "        upperX = X[int(np.floor(0.99 * nrows))]\n",
    "        \n",
    "        Xmidpoints_used = np.reshape(np.linspace(lowerX, upperX, nrbins), newshape=(nrbins, 1))\n",
    "        \n",
    "    else:\n",
    "        nrbins, ncbins = Xmidpoints.size\n",
    "        Xmidpoints_used = Xmidpoints\n",
    "        \n",
    "    firstb = Xmidpoints_used[0, :]\n",
    "    lastb = Xmidpoints_used[nrbins - 1, :]\n",
    "    binsize = ((lastb - firstb) / nrbins)\n",
    "    \n",
    "    if bandwidth > 0:\n",
    "        bandwidth_used = bandwidth\n",
    "        \n",
    "    else:\n",
    "        delta = 0.7764\n",
    "        bandwidth_used = 1.3643 * delta * stdX * nrows ^ (- 1 / 5)\n",
    "        \n",
    "    \n",
    "    m_regress = np.zeros(nrbins)\n",
    "    \n",
    "    for j in range(nrbins):\n",
    "        Xb = Xmidpoints_used[j, 0]\n",
    "        Z = (iota * Xb - X) / bandwidth_used\n",
    "        KX = norm.pdf(Z, loc=0, scale=1)\n",
    "        \n",
    "        YKX = Y * X\n",
    "        m_regress[j] = np.mean(YKX) / np.mean(KX)\n",
    "\n",
    "        \n",
    "    return Xmidpoints_used, m_regress, bandwidth_used"
   ]
  }
 ],
 "metadata": {
  "kernelspec": {
   "display_name": "Python 3",
   "language": "python",
   "name": "python3"
  },
  "language_info": {
   "codemirror_mode": {
    "name": "ipython",
    "version": 3
   },
   "file_extension": ".py",
   "mimetype": "text/x-python",
   "name": "python",
   "nbconvert_exporter": "python",
   "pygments_lexer": "ipython3",
   "version": "3.6.3"
  }
 },
 "nbformat": 4,
 "nbformat_minor": 2
}
