{
 "cells": [
  {
   "cell_type": "markdown",
   "metadata": {},
   "source": [
    "# Question 1 "
   ]
  },
  {
   "cell_type": "code",
   "execution_count": 1,
   "metadata": {},
   "outputs": [
    {
     "name": "stdout",
     "output_type": "stream",
     "text": [
      "500\n",
      "1000\n",
      "Coverage freq.(asym): \n",
      " 0.709\n"
     ]
    }
   ],
   "source": [
    "#load numpy and set seed\n",
    "import numpy as np\n",
    "np.random.seed(1429)\n",
    "\n",
    "#setup\n",
    "n = 50\n",
    "REP = 1000\n",
    "BOOTREP = 499\n",
    "m = 0\n",
    "s = 1.3\n",
    "mu = np.exp(m + 0.5 * (s ** 2))\n",
    "beta = np.sin(mu)\n",
    "\n",
    "#create arrays for storing the variables\n",
    "xbar = np.zeros([REP, 1])\n",
    "bhat = np.zeros([REP, 1])\n",
    "SE = np.zeros([REP, 1])\n",
    "trat = np.zeros([REP, 1])\n",
    "LCLasym = np.zeros([REP, 1])\n",
    "UCLasym = np.zeros([REP, 1])\n",
    "\n",
    "#Monte Carlo simulation for coverage frequency\n",
    "for i in range(REP):\n",
    "    if ((i + 1) % 500) == 0:\n",
    "        print(i + 1)\n",
    "    \n",
    "    X = np.exp(np.random.normal(loc=m, scale=s, size=([n, 1])))\n",
    "    xbar[i] = np.mean(X)\n",
    "    bhat[i] = np.sin(xbar[i])\n",
    "    SE[i] = np.sqrt(np.var(X) / n * (np.cos(xbar[i])) ** 2)\n",
    "    trat[i] = (bhat[i] - beta) / SE[i]\n",
    "    \n",
    "    LCLasym[i] = bhat[i] - 1.96 * SE[i]\n",
    "    UCLasym[i] = bhat[i] + 1.96 * SE[i]\n",
    "\n",
    "#show the results\n",
    "CoverageFreqasym = np.mean((beta > LCLasym) & (beta < UCLasym)) \n",
    "print('Coverage freq.(asym): \\n', CoverageFreqasym)"
   ]
  },
  {
   "cell_type": "markdown",
   "metadata": {},
   "source": [
    "# Question 2"
   ]
  },
  {
   "cell_type": "code",
   "execution_count": 2,
   "metadata": {},
   "outputs": [
    {
     "name": "stdout",
     "output_type": "stream",
     "text": [
      "Minimal sample size:  1650\n",
      "Frequency:  0.939\n"
     ]
    }
   ],
   "source": [
    "#for loop for finding sufficient n\n",
    "for n in range(50, 10000, 50):\n",
    "    np.random.seed(1429)\n",
    "    \n",
    "    n = n\n",
    "    REP = 1000\n",
    "    BOOTREP = 499\n",
    "    m = 0\n",
    "    s = 1.3\n",
    "    mu = np.exp(m + 0.5 * s ** 2)\n",
    "    beta = np.sin(mu)\n",
    "\n",
    "    xbar = np.zeros([REP, 1])\n",
    "    bhat = np.zeros([REP, 1])\n",
    "    SE = np.zeros([REP, 1])\n",
    "    trat = np.zeros([REP, 1])\n",
    "    LCLasym = np.zeros([REP, 1])\n",
    "    UCLasym = np.zeros([REP, 1])\n",
    "\n",
    "    for i in range(REP):\n",
    "        X = np.exp(np.random.normal(loc=m, scale=s, size=([n, 1])))\n",
    "        xbar[i] = np.mean(X)\n",
    "        bhat[i] = np.sin(xbar[i])\n",
    "        SE[i] = np.sqrt(np.var(X) / n * (np.cos(xbar[i])) ** 2)\n",
    "        trat[i] = (bhat[i] - beta) / SE[i]\n",
    "\n",
    "        LCLasym[i] = bhat[i] - 1.96 * SE[i]\n",
    "        UCLasym[i] = bhat[i] + 1.96 * SE[i]\n",
    "\n",
    "    CoverageFreqasym = np.mean((beta > LCLasym) & (beta < UCLasym)) \n",
    "    \n",
    "    #break the loop when n is sufficiently large\n",
    "    if ((CoverageFreqasym < 0.9635) & (CoverageFreqasym > 0.9365)):\n",
    "        print('Minimal sample size: ', n)\n",
    "        print('Frequency: ', CoverageFreqasym)\n",
    "        break"
   ]
  },
  {
   "cell_type": "markdown",
   "metadata": {},
   "source": [
    "# Question 3"
   ]
  },
  {
   "cell_type": "markdown",
   "metadata": {},
   "source": [
    "#### Bias and bias-corrected estimates"
   ]
  },
  {
   "cell_type": "code",
   "execution_count": 3,
   "metadata": {},
   "outputs": [
    {
     "name": "stdout",
     "output_type": "stream",
     "text": [
      "Bootstrap bias:  -0.0749269901093\n",
      "Bootstrap bias-corrected:  0.628862415363\n",
      "Jackknife bias:  -0.119084405584\n",
      "Jackknife bias-corrected:  0.673019830838\n",
      "True beta is: 0.726774862634\n",
      "=> JK is closer to the true value.\n",
      "0.553935425254\n"
     ]
    }
   ],
   "source": [
    "#Bootstrap\n",
    "np.random.seed(1429)\n",
    "n = 50\n",
    "\n",
    "X = np.exp(np.random.normal(loc=m, scale=s, size=([n, 1])))\n",
    "\n",
    "bhat_bs = np.zeros([BOOTREP, 1])\n",
    "for b in range(BOOTREP):\n",
    "    bhat_bs[b] = np.sin(np.mean(X[np.random.randint(0, n - 1, n)]))\n",
    "    \n",
    "# Bias\n",
    "bias_bs = np.mean(bhat_bs) - np.sin(np.mean(X))\n",
    "bias_bs_correction = 2 * np.sin(np.mean(X)) - np.mean(bhat_bs)\n",
    "\n",
    "print('Bootstrap bias: ', bias_bs)\n",
    "print('Bootstrap bias-corrected: ', bias_bs_correction)\n",
    "\n",
    "#Jackknife\n",
    "\n",
    "bhat_jk = np.zeros([n, 1])\n",
    "\n",
    "for i in range(n):\n",
    "    mask = np.ones(n, dtype=bool)\n",
    "    mask[i] = 0\n",
    "    bhat_jk[i] = np.sin(np.mean(X[mask]))\n",
    "    \n",
    "bias_jk = (n - 1) * (np.mean(bhat_jk) - np.sin(np.mean(X)))\n",
    "bias_jk_correction = n * np.sin(np.mean(X)) - (n - 1) * np.mean(bhat_jk)\n",
    "\n",
    "print('Jackknife bias: ', bias_jk)\n",
    "print('Jackknife bias-corrected: ', bias_jk_correction)\n",
    "\n",
    "print('True beta is:', beta)\n",
    "print('=> JK is closer to the true value.')\n",
    "print(np.sin(np.mean(X)))\n",
    "# Confidence interval"
   ]
  },
  {
   "cell_type": "markdown",
   "metadata": {},
   "source": [
    "#### Confidence interval - bootstrap & jackknife"
   ]
  },
  {
   "cell_type": "code",
<<<<<<< HEAD
   "execution_count": 17,
=======
   "execution_count": 4,
>>>>>>> 1bce2d9aa9d81cc26ca81ae1ffafc86b331cbd71
   "metadata": {},
   "outputs": [
    {
     "name": "stdout",
     "output_type": "stream",
     "text": [
      "500\n",
      "1000\n",
      "Coverage freq.(asym) for bootstrap corrected is:  0.67\n",
      "Coverage freq.(asym) for jackknife corrected is:  0.673\n"
     ]
    }
   ],
   "source": [
    "np.random.seed(1429)\n",
    "\n",
    "n = 50\n",
    "REP = 1000\n",
    "BOOTREP = 499\n",
    "m = 0\n",
    "s = 1.3\n",
    "mu = np.exp(m + 0.5 * (s ** 2))\n",
    "beta = np.sin(mu)\n",
    "\n",
    "xbar = np.zeros([REP, 1])\n",
    "bhat_bs = np.zeros([REP, 1])\n",
    "bhat_jk = np.zeros([REP, 1])\n",
    "SE = np.zeros([REP, 1])\n",
    "LCLasym_bs = np.zeros([REP, 1])\n",
    "UCLasym_bs = np.zeros([REP, 1])\n",
    "LCLasym_jk = np.zeros([REP, 1])\n",
    "UCLasym_jk = np.zeros([REP, 1])\n",
    "\n",
    "for i in range(REP):\n",
    "    if ((i + 1) % 500) == 0:\n",
    "        print(i + 1)\n",
    "    \n",
    "    X = np.exp(np.random.normal(loc=m, scale=s, size=([n, 1])))\n",
    "    xbar[i] = np.mean(X)\n",
    "    SE[i] = np.sqrt((np.var(X) / n) * (np.cos(xbar[i])) ** 2)\n",
    "    \n",
    "    #bootstrap\n",
    "    bhat_bs_rep = np.zeros([BOOTREP, 1])\n",
    "    for b in range(BOOTREP):\n",
    "        bhat_bs_rep[b] = np.sin(np.mean(X[np.random.randint(0, n - 1, n)]))\n",
    "\n",
    "    # Bias corrected BS bhat\n",
    "    bias_bs_correction = 2 * np.sin(np.mean(X)) - np.mean(bhat_bs_rep)\n",
    "    bhat_bs[i] = bias_bs_correction\n",
    "    \n",
    "    # Bias BS corrected confidence intervals\n",
    "    LCLasym_bs[i] = bhat_bs[i] - 1.96 * SE[i]\n",
    "    UCLasym_bs[i] = bhat_bs[i] + 1.96 * SE[i]\n",
    "  \n",
    "    #Jack-knife\n",
    "    bhat_jk_rep = np.zeros([n, 1])\n",
    "    for b in range(n):\n",
    "        mask = np.ones(n, dtype=bool)\n",
    "        mask[b] = 0\n",
    "        bhat_jk_rep[b] = np.sin(np.mean(X[mask]))\n",
    "    \n",
    "    # Bias corrected JK bhat\n",
    "    bias_jk_correction = n * np.sin(np.mean(X)) - (n - 1) * np.mean(bhat_jk_rep)\n",
    "    bhat_jk[i] = bias_jk_correction\n",
    "     \n",
    "    # Bias JK corrected confidence intervals\n",
    "    LCLasym_jk[i] = bhat_jk[i] - 1.96 * SE[i]\n",
    "    UCLasym_jk[i] = bhat_jk[i] + 1.96 * SE[i]\n",
    "\n",
    "    \n",
    "CoverageFreqasym_bs = np.mean((beta > LCLasym_bs) & (beta < UCLasym_bs)) \n",
    "print('Coverage freq.(asym) for bootstrap corrected is: ', CoverageFreqasym_bs)\n",
    "    \n",
    "CoverageFreqasym_jk = np.mean((beta > LCLasym_jk) & (beta < UCLasym_jk)) \n",
    "print('Coverage freq.(asym) for jackknife corrected is: ', CoverageFreqasym_jk)"
   ]
  },
  {
   "cell_type": "markdown",
   "metadata": {},
   "source": [
    "# Question 4 "
   ]
  },
  {
   "cell_type": "markdown",
   "metadata": {},
   "source": [
    "#### Confidence intervals for jackknife and bootstrap with corrected SE"
   ]
  },
  {
   "cell_type": "code",
<<<<<<< HEAD
   "execution_count": 16,
=======
   "execution_count": 5,
>>>>>>> 1bce2d9aa9d81cc26ca81ae1ffafc86b331cbd71
   "metadata": {},
   "outputs": [
    {
     "name": "stdout",
     "output_type": "stream",
     "text": [
      "500\n",
      "1000\n",
      "Coverage freq.(asym) bootstrap corrected SE is:  0.767\n",
      "Coverage freq.(asym) jackknife corrected SE is:  0.696\n"
     ]
    }
   ],
   "source": [
    "np.random.seed(1429)\n",
    "\n",
    "n = 50\n",
    "REP = 1000\n",
    "BOOTREP = 499\n",
    "m = 0\n",
    "s = 1.3\n",
    "mu = np.exp(m + 0.5 * (s ** 2))\n",
    "beta = np.sin(mu)\n",
    "\n",
    "xbar = np.zeros([REP, 1])\n",
    "bhat_bs = np.zeros([REP, 1])\n",
    "bhat_jk = np.zeros([REP, 1])\n",
    "SE_bs = np.zeros([REP, 1])\n",
    "SE_jk = np.zeros([REP, 1])\n",
    "LCLasym_bs = np.zeros([REP, 1])\n",
    "UCLasym_bs = np.zeros([REP, 1])\n",
    "LCLasym_jk = np.zeros([REP, 1])\n",
    "UCLasym_jk = np.zeros([REP, 1])\n",
    "\n",
    "\n",
    "for i in range(REP):\n",
    "    if ((i + 1) % 500) == 0:\n",
    "        print(i + 1)\n",
    "    \n",
    "    X = np.exp(np.random.normal(loc=m, scale=s, size=([n, 1])))\n",
    "    xbar[i] = np.mean(X)\n",
    "    bhat[i] = np.sin(xbar[i])\n",
    "    \n",
    "    bhat_jk = np.zeros([n, 1])\n",
    "\n",
    "    for j in range(n):\n",
    "        mask = np.ones(n, dtype=bool)\n",
    "        mask[j] = 0\n",
    "        bhat_jk[j] = np.sin(np.mean(X[mask]))\n",
    "    \n",
    "    SE_jk[i] = np.sqrt((n - 1) / n * np.sum((bhat_jk - np.mean(bhat_jk)) ** 2))\n",
    "    \n",
    "    \n",
    "    LCLasym_jk[i] = bhat[i] - 1.96 * SE_jk[i]\n",
    "    UCLasym_jk[i] = bhat[i] + 1.96 * SE_jk[i]\n",
    "    \n",
    "    bhat_bs = np.zeros([BOOTREP, 1])\n",
    "\n",
    "    for b in range(BOOTREP):\n",
    "        bhat_bs[b] = np.sin(np.mean(X[np.random.randint(0, n - 1, n)]))    \n",
    "    \n",
    "    SE_bs[i] = np.sqrt((1 / (BOOTREP - 1)) * np.sum((bhat_bs - np.mean(bhat_bs)) ** 2))\n",
    "    \n",
    "    \n",
    "    LCLasym_bs[i] = bhat[i] - 1.96 * SE_bs[i]\n",
    "    UCLasym_bs[i] = bhat[i] + 1.96 * SE_bs[i]\n",
    "    \n",
    "CoverageFreqasym_bs = np.mean((beta > LCLasym_bs) & (beta < UCLasym_bs)) \n",
    "print('Coverage freq.(asym) bootstrap corrected SE is: ', CoverageFreqasym_bs)\n",
    "    \n",
    "CoverageFreqasym_jk = np.mean((beta > LCLasym_jk) & (beta < UCLasym_jk)) \n",
    "print('Coverage freq.(asym) jackknife corrected SE is: ', CoverageFreqasym_jk)"
   ]
  },
  {
   "cell_type": "markdown",
   "metadata": {},
   "source": [
    "# Question 5"
   ]
  },
  {
   "cell_type": "markdown",
   "metadata": {},
   "source": [
    "#### percentile-$t$ and percentile comparison"
   ]
  },
  {
   "cell_type": "code",
<<<<<<< HEAD
   "execution_count": 15,
=======
   "execution_count": 12,
>>>>>>> 1bce2d9aa9d81cc26ca81ae1ffafc86b331cbd71
   "metadata": {
    "scrolled": true
   },
   "outputs": [
    {
     "name": "stdout",
     "output_type": "stream",
     "text": [
      "500\n",
      "1000\n",
      "Coverage Freq. Percentile-t:  0.846\n",
      "Coverage Freq. Percentile:  0.876\n"
     ]
    }
   ],
   "source": [
    "np.random.seed(1211)\n",
    "\n",
    "n = 50\n",
    "REP = 1000\n",
    "BOOTREP = 499\n",
    "m = 0\n",
    "s = 1.3\n",
    "mu = np.exp(m + 0.5 * (s ** 2))\n",
    "beta = np.sin(mu)\n",
    "\n",
    "xbar = np.zeros([REP, 1])\n",
    "bhat = np.zeros([REP, 1])\n",
    "SE = np.zeros([REP, 1])\n",
    "trat = np.zeros([BOOTREP, 1])\n",
    "LCLasym_pert = np.zeros([REP, 1])\n",
    "UCLasym_pert = np.zeros([REP, 1])\n",
    "LCLasym_per = np.zeros([REP, 1])\n",
    "UCLasym_per = np.zeros([REP, 1])\n",
    "LCL_pert = np.zeros([REP, 1])\n",
    "UCL_pert = np.zeros([REP, 1])\n",
    "\n",
    "\n",
    "for i in range(REP):\n",
    "    if ((i + 1) % 500) == 0:\n",
    "        print(i + 1)\n",
    "        \n",
    "    X = np.exp(np.random.normal(loc=m, scale=s, size=([n, 1])))\n",
    "    xbar[i] = np.mean(X)\n",
    "    bhat[i] = np.sin(xbar[i])\n",
    "    SE[i] = np.sqrt((np.var(X) / n) * (np.cos(xbar[i])) ** 2)\n",
    "    \n",
    "    bhat_bs = np.zeros([BOOTREP,1])\n",
    "    SE_bs = np.zeros([BOOTREP,1])\n",
    "    \n",
    "    for b in range(BOOTREP):\n",
    "        index = X[np.random.randint(0, n - 1, n)]\n",
    "        bhat_bs[b] = np.sin(np.mean(index))\n",
    "        SE_bs[b] =  np.sqrt((np.var(index) / n) * (np.cos(np.mean(index))) ** 2)\n",
    "        trat[b] = (bhat_bs[b] - bhat[i]) / (SE_bs[b])\n",
    "        \n",
    "    LCL_pert[i] = np.percentile(trat, q=97.5, interpolation='higher')\n",
    "    UCL_pert[i] = np.percentile(trat, q=2.5, interpolation='higher')\n",
    "    \n",
    "    LCLasym_pert[i] = bhat[i] - LCL_pert[i] * SE[i]\n",
    "    UCLasym_pert[i] = bhat[i] - UCL_pert[i] * SE[i]\n",
    "    \n",
    "    LCLasym_per[i] = np.percentile(bhat_bs, q=2.5, interpolation='higher')\n",
    "    UCLasym_per[i] = np.percentile(bhat_bs, q=97.5, interpolation='higher')\n",
    "\n",
    " \n",
    "\n",
    "CoverageFreqasym_pert = np.mean((beta > LCLasym_pert) & (beta < UCLasym_pert))\n",
    "CoverageFreqasym_per = np.mean((beta > LCLasym_per) & (beta < UCLasym_per))\n",
    "print('Coverage Freq. Percentile-t: ', CoverageFreqasym_pert)\n",
    "print('Coverage Freq. Percentile: ', CoverageFreqasym_per)"
   ]
  },
  {
   "cell_type": "markdown",
   "metadata": {},
   "source": [
    "# Question 6"
   ]
  },
  {
   "cell_type": "code",
   "execution_count": 9,
   "metadata": {},
   "outputs": [
    {
     "name": "stdout",
     "output_type": "stream",
     "text": [
      "500\n",
      "1000\n",
      "Coverage Freq. Percentile-t:  0.828\n",
      "Coverage Freq. Percentile:  0.87\n"
     ]
    }
   ],
   "source": [
    "np.random.seed(1429)\n",
    "\n",
    "n = 50\n",
    "REP = 1000\n",
    "BOOTREP = 499\n",
    "m = 0\n",
    "s = 1.3\n",
    "mu = np.exp(m + 0.5 * (s ** 2))\n",
    "beta = np.sin(mu)\n",
    "\n",
    "xbar = np.zeros([REP, 1])\n",
    "bhat = np.zeros([REP, 1])\n",
    "SE = np.zeros([REP, 1])\n",
    "trat = np.zeros([BOOTREP, 1])\n",
    "LCLasym_pert = np.zeros([REP, 1])\n",
    "UCLasym_pert = np.zeros([REP, 1])\n",
    "LCLasym_per = np.zeros([REP, 1])\n",
    "UCLasym_per = np.zeros([REP, 1])\n",
    "LCL_pert = np.zeros([REP, 1])\n",
    "UCL_pert = np.zeros([REP, 1])\n",
    "\n",
    "\n",
    "for i in range(REP):\n",
    "    if ((i + 1) % 500) == 0:\n",
    "        print(i + 1)\n",
    "        \n",
    "    X = np.exp(np.random.normal(loc=m, scale=s, size=([n, 1])))\n",
    "    xbar[i] = np.mean(X)\n",
    "    bhat[i] = np.sin(xbar[i])\n",
    "    SE[i] = np.sqrt((np.var(X) / n) * (np.cos(xbar[i])) ** 2)\n",
    "       \n",
    "    bhat_bs = np.zeros([BOOTREP,1])\n",
    "    SE_bs = np.zeros([BOOTREP,1])\n",
    "    \n",
    "    for b in range(BOOTREP):\n",
    "        index = X[np.random.randint(0, n - 1, n)]\n",
    "        bhat_bs[b] = np.sin(np.mean(index))\n",
    "        SE_bs[b] =  np.sqrt((np.var(index) / n) * (np.cos(np.mean(index))) ** 2)\n",
    "    \n",
    "    \n",
    "    for b in range(BOOTREP):\n",
    "        trat[b] = (bhat_bs[b] - bhat[i]) / (SE_bs[b])\n",
    "        \n",
    "    LCL_pert[i] = np.percentile(trat, q=97.5, interpolation='higher')\n",
    "    UCL_pert[i] = np.percentile(trat, q=2.5, interpolation='higher')\n",
    "     \n",
    "    bias_bs_correction = 2 * bhat[i] - np.mean(bhat_bs)\n",
    "    \n",
    "    LCLasym_pert[i] = bias_bs_correction - LCL_pert[i] * SE[i]\n",
    "    UCLasym_pert[i] = bias_bs_correction - UCL_pert[i] * SE[i]\n",
    "    \n",
    "    LCLasym_per[i] = np.percentile(bhat_bs, q=2.5, interpolation='higher')\n",
    "    UCLasym_per[i] = np.percentile(bhat_bs, q=97.5, interpolation='higher')\n",
    "\n",
    " \n",
    "\n",
    "CoverageFreqasym_pert = np.mean((beta > LCLasym_pert) & (beta < UCLasym_pert))\n",
    "CoverageFreqasym_per = np.mean((beta > LCLasym_per) & (beta < UCLasym_per))\n",
    "print('Coverage Freq. Percentile-t: ', CoverageFreqasym_pert)\n",
    "print('Coverage Freq. Percentile: ', CoverageFreqasym_per)"
   ]
  },
  {
   "cell_type": "markdown",
   "metadata": {},
   "source": [
    "# Question 7"
   ]
  },
  {
   "cell_type": "code",
   "execution_count": 10,
   "metadata": {},
   "outputs": [
    {
     "name": "stdout",
     "output_type": "stream",
     "text": [
      "500\n",
      "1000\n",
      "Coverage Freq. Percentile-t:  0.27\n"
     ]
    }
   ],
   "source": [
    "import numpy as np\n",
    "\n",
    "np.random.seed(1429)\n",
    "\n",
    "n = 50\n",
    "REP = 1000\n",
    "BOOTREP = 499\n",
    "m = 0\n",
    "s = 1.3\n",
    "mu = np.exp(m + 0.5 * (s ** 2))\n",
    "beta = np.sin(mu)\n",
    "\n",
    "xbar = np.zeros([REP, 1])\n",
    "bhat = np.zeros([REP, 1])\n",
    "SE = np.zeros([REP, 1])\n",
    "LCLasym_pert = np.zeros([REP, 1])\n",
    "UCLasym_pert = np.zeros([REP, 1])\n",
    "LCL_pert = np.zeros([REP, 1])\n",
    "UCL_pert = np.zeros([REP, 1])\n",
    "trat = np.zeros([n, 1])\n",
    "\n",
    "\n",
    "for i in range(REP):\n",
    "    if ((i + 1) % 500) == 0:\n",
    "        print(i + 1)\n",
    "        \n",
    "    X = np.exp(np.random.normal(loc=m, scale=s, size=([n, 1])))\n",
    "    xbar[i] = np.mean(X)\n",
    "    bhat[i] = np.sin(xbar[i])\n",
    "    SE[i] = np.sqrt((np.var(X) / n) * (np.cos(xbar[i])) ** 2)\n",
    "    \n",
    "    bhat_jk = np.zeros([n, 1])\n",
    "    SE_jk = np.zeros([n, 1])\n",
    "\n",
    "    for j in range(n):\n",
    "        mask = np.ones(n, dtype=bool)\n",
    "        mask[j] = 0\n",
    "        bhat_jk[j] = np.sin(np.mean(X[mask]))\n",
    "        SE_jk[j] = np.sqrt((np.var(X[mask]) / n) * (np.cos(np.mean(X[mask]))) ** 2)\n",
    "    \n",
    "    bias_jk = (n - 1) * (np.mean(bhat_jk) - bhat[i])\n",
    "    \n",
    "    for j in range(n):\n",
    "        trat[j] = (bhat_jk[j] - bias_jk - bhat[i]) / (SE_jk[j])\n",
    "        \n",
    "    LCL_pert[i] = np.percentile(trat, q=97.5, interpolation='higher')\n",
    "    UCL_pert[i] = np.percentile(trat, q=2.5, interpolation='higher')\n",
    "        \n",
    "    LCLasym_pert[i] = bhat[i] - LCL_pert[i] * SE[i]\n",
    "    UCLasym_pert[i] = bhat[i] - UCL_pert[i] * SE[i]\n",
    " \n",
    "\n",
    "CoverageFreqasym_pert = np.mean((beta > LCLasym_pert) & (beta < UCLasym_pert))\n",
    "print('Coverage Freq. Percentile-t: ', CoverageFreqasym_pert)"
   ]
  }
 ],
 "metadata": {
  "kernelspec": {
   "display_name": "Python 3",
   "language": "python",
   "name": "python3"
  },
  "language_info": {
   "codemirror_mode": {
    "name": "ipython",
    "version": 3
   },
   "file_extension": ".py",
   "mimetype": "text/x-python",
   "name": "python",
   "nbconvert_exporter": "python",
   "pygments_lexer": "ipython3",
   "version": "3.6.0"
  }
 },
 "nbformat": 4,
 "nbformat_minor": 2
}
