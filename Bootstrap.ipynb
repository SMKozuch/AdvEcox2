{
 "cells": [
  {
   "cell_type": "markdown",
   "metadata": {},
   "source": [
    "## Exercise 1 "
   ]
  },
  {
   "cell_type": "code",
   "execution_count": 1,
   "metadata": {},
   "outputs": [
    {
     "name": "stdout",
     "output_type": "stream",
     "text": [
      "100\n",
      "200\n",
      "300\n",
      "400\n",
      "500\n",
      "600\n",
      "700\n",
      "800\n",
      "900\n",
      "1000\n",
      "Coverage freq.(asym): \n",
      " 0.709\n"
     ]
    }
   ],
   "source": [
    "import numpy as np\n",
    "import pandas as pd\n",
    "\n",
    "np.random.seed(1429)\n",
    "\n",
    "n = 50\n",
    "REP = 1000\n",
    "BOOTREP = 499\n",
    "m = 0\n",
    "s = 1.3\n",
    "mu = np.exp(m + 0.5 * (s ** 2))\n",
    "beta = np.sin(mu)\n",
    "\n",
    "xbar = np.zeros([REP, 1])\n",
    "bhat = np.zeros([REP, 1])\n",
    "SE = np.zeros([REP, 1])\n",
    "trat = np.zeros([REP, 1])\n",
    "LCLasym = np.zeros([REP, 1])\n",
    "UCLasym = np.zeros([REP, 1])\n",
    "\n",
    "for i in range(REP):\n",
    "    if ((i + 1) % 100) == 0:\n",
    "        print(i + 1)\n",
    "    \n",
    "    X = np.exp(np.random.normal(loc=m, scale=s, size=([n, 1])))\n",
    "    xbar[i] = np.mean(X)\n",
    "    bhat[i] = np.sin(xbar[i])\n",
    "    SE[i] = np.sqrt(np.var(X) / n * (np.cos(xbar[i])) ** 2)\n",
    "    trat[i] = (bhat[i] - beta) / SE[i]\n",
    "    \n",
    "    LCLasym[i] = bhat[i] - 1.96 * SE[i]\n",
    "    UCLasym[i] = bhat[i] + 1.96 * SE[i]\n",
    "    \n",
    "CoverageFreqasym = np.mean((beta > LCLasym) & (beta < UCLasym)) \n",
    "print('Coverage freq.(asym): \\n', CoverageFreqasym)"
   ]
  },
  {
   "cell_type": "markdown",
   "metadata": {},
   "source": [
    "## Exercise 2"
   ]
  },
  {
   "cell_type": "code",
   "execution_count": 2,
   "metadata": {},
   "outputs": [
    {
     "name": "stdout",
     "output_type": "stream",
     "text": [
      "Minimal sample size:  1650\n",
      "Frequency:  0.939\n"
     ]
    }
   ],
   "source": [
    "for n in range(50, 10000, 50):\n",
    "    np.random.seed(1429)\n",
    "    \n",
    "    n = n\n",
    "    REP = 1000\n",
    "    BOOTREP = 499\n",
    "    m = 0\n",
    "    s = 1.3\n",
    "    mu = np.exp(m + 0.5 * s ** 2)\n",
    "    beta = np.sin(mu)\n",
    "\n",
    "    xbar = np.zeros([REP, 1])\n",
    "    bhat = np.zeros([REP, 1])\n",
    "    SE = np.zeros([REP, 1])\n",
    "    trat = np.zeros([REP, 1])\n",
    "    LCLasym = np.zeros([REP, 1])\n",
    "    UCLasym = np.zeros([REP, 1])\n",
    "\n",
    "    for i in range(REP):\n",
    "        #if ((i + 1) % 100) == 0:\n",
    "            #print(i + 1)\n",
    "        X = np.exp(np.random.normal(loc=m, scale=s, size=([n, 1])))\n",
    "        xbar[i] = np.mean(X)\n",
    "        bhat[i] = np.sin(xbar[i])\n",
    "        SE[i] = np.sqrt(np.var(X) / n * (np.cos(xbar[i])) ** 2)\n",
    "        trat[i] = (bhat[i] - beta) / SE[i]\n",
    "\n",
    "        LCLasym[i] = bhat[i] - 1.96 * SE[i]\n",
    "        UCLasym[i] = bhat[i] + 1.96 * SE[i]\n",
    "\n",
    "    CoverageFreqasym = np.mean((beta > LCLasym) & (beta < UCLasym)) \n",
    "    \n",
    "    if ((CoverageFreqasym < 0.9635) & (CoverageFreqasym > 0.9365)):\n",
    "        print('Minimal sample size: ', n)\n",
    "        print('Frequency: ', CoverageFreqasym)\n",
    "        break"
   ]
  },
  {
   "cell_type": "markdown",
   "metadata": {},
   "source": [
    "## Exercise 3"
   ]
  },
  {
   "cell_type": "markdown",
   "metadata": {},
   "source": [
    "### Bias and bias-corrected estimates"
   ]
  },
  {
   "cell_type": "code",
   "execution_count": 44,
   "metadata": {},
   "outputs": [
    {
     "name": "stdout",
     "output_type": "stream",
     "text": [
      "Bootstrap bias:  -0.0749269901093\n",
      "Bootstrap bias-corrected:  0.628862415363\n",
      "Jackknife bias:  -0.119084405584\n",
      "Jackknife bias-corrected:  0.673019830838\n"
     ]
    }
   ],
   "source": [
    "#Bootstrap\n",
    "np.random.seed(1429)\n",
    "n = 50\n",
    "\n",
    "X = np.exp(np.random.normal(loc=m, scale=s, size=([n, 1])))\n",
    "\n",
    "bhat_bs = np.zeros([BOOTREP, 1])\n",
    "for b in range(BOOTREP):\n",
    "    bhat_bs[b] = np.sin(np.mean(X[np.random.randint(0, n - 1, n)]))\n",
    "    \n",
    "# Bias\n",
    "bias_bs = np.mean(bhat_bs) - np.sin(np.mean(X))\n",
    "bias_bs_correction = 2 * np.sin(np.mean(X)) - np.mean(bhat_bs)\n",
    "\n",
    "print('Bootstrap bias: ', bias_bs)\n",
    "print('Bootstrap bias-corrected: ', bias_bs_correction)\n",
    "\n",
    "#Jackknife\n",
    "\n",
    "bhat_jk = np.zeros([n, 1])\n",
    "\n",
    "for i in range(n):\n",
    "    mask = np.ones(n, dtype=bool)\n",
    "    mask[i] = 0\n",
    "    bhat_jk[i] = np.sin(np.mean(X[mask]))\n",
    "    \n",
    "bias_jk = (n - 1) * (np.mean(bhat_jk) - np.sin(np.mean(X)))\n",
    "bias_jk_correction = n * np.sin(np.mean(X)) - (n - 1) * np.mean(bhat_jk)\n",
    "\n",
    "print('Jackknife bias: ', bias_jk)\n",
    "print('Jackknife bias-corrected: ', bias_jk_correction)\n",
    "\n",
    "# Confidence interval\n"
   ]
  },
  {
   "cell_type": "markdown",
   "metadata": {},
   "source": [
    "### Confidence interval"
   ]
  },
  {
   "cell_type": "code",
   "execution_count": 46,
   "metadata": {},
   "outputs": [
    {
     "name": "stdout",
     "output_type": "stream",
     "text": [
      "100\n",
      "200\n",
      "300\n",
      "400\n",
      "500\n",
      "600\n",
      "700\n",
      "800\n",
      "900\n",
      "1000\n",
      "Coverage freq.(asym): \n",
      " 0.653\n"
     ]
    }
   ],
   "source": [
    "np.random.seed(1429)\n",
    "\n",
    "n = 50\n",
    "REP = 1000\n",
    "BOOTREP = 499\n",
    "m = 0\n",
    "s = 1.3\n",
    "mu = np.exp(m + 0.5 * (s ** 2))\n",
    "beta = np.sin(mu)\n",
    "\n",
    "xbar = np.zeros([REP, 1])\n",
    "bhat = np.zeros([REP, 1])\n",
    "SE = np.zeros([REP, 1])\n",
    "trat = np.zeros([REP, 1])\n",
    "LCLasym = np.zeros([REP, 1])\n",
    "UCLasym = np.zeros([REP, 1])\n",
    "\n",
    "for i in range(REP):\n",
    "    if ((i + 1) % 100) == 0:\n",
    "        print(i + 1)\n",
    "    \n",
    "    X = np.exp(np.random.normal(loc=m, scale=s, size=([n, 1])))\n",
    "    xbar[i] = np.mean(X)\n",
    "    \n",
    "    bhat_jk = np.zeros([n, 1])\n",
    "\n",
    "    for j in range(n):\n",
    "        mask = np.ones(n, dtype=bool)\n",
    "        mask[j] = 0\n",
    "        bhat_jk[j] = np.sin(np.mean(X[mask]))\n",
    "\n",
    "    bias_jk_correction = n * np.sin(np.mean(X)) - (n - 1) * np.mean(bhat_jk)\n",
    "    bhat[i] = bias_jk_correction\n",
    "    \n",
    "    SE[i] = np.sqrt(np.var(X) / n * (np.cos(xbar[i])) ** 2)\n",
    "    trat[i] = (bhat[i] - beta) / SE[i]\n",
    "    \n",
    "    LCLasym[i] = bhat[i] - 1.96 * SE[i]\n",
    "    UCLasym[i] = bhat[i] + 1.96 * SE[i]\n",
    "    \n",
    "CoverageFreqasym = np.mean((beta > LCLasym) & (beta < UCLasym)) \n",
    "print('Coverage freq.(asym): \\n', CoverageFreqasym)"
   ]
  }
 ],
 "metadata": {
  "kernelspec": {
   "display_name": "Python 3",
   "language": "python",
   "name": "python3"
  },
  "language_info": {
   "codemirror_mode": {
    "name": "ipython",
    "version": 3
   },
   "file_extension": ".py",
   "mimetype": "text/x-python",
   "name": "python",
   "nbconvert_exporter": "python",
   "pygments_lexer": "ipython3",
   "version": "3.6.3"
  }
 },
 "nbformat": 4,
 "nbformat_minor": 2
}
