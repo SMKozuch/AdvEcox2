{
 "cells": [
  {
   "cell_type": "markdown",
   "metadata": {},
   "source": [
    "# Advanced Econometrics II\n",
    "### Computer Assignment - Weak identification"
   ]
  },
  {
   "cell_type": "code",
   "execution_count": null,
   "metadata": {},
   "outputs": [],
   "source": [
    "import pandas as pd\n",
    "import os\n",
    "import numpy as np\n",
    "import statsmodels\n",
    "import matplotlib.pyplot as plt\n",
    "print(os.getcwd())\n",
    "data = pd.read_csv('dest.csv', \n",
    "                header=None, \n",
    "                names=['age', 'age2', 'ed',\n",
    "                       'exper', 'exper2', 'nearc2',\n",
    "                       'nearc4', 'nearc4a', 'nearc4b',\n",
    "                       'race', 'smsa', 'south', 'wage'])\n",
    "print(data.columns.values)"
   ]
  },
  {
   "cell_type": "markdown",
   "metadata": {},
   "source": [
    "## Question 1"
   ]
  },
  {
   "cell_type": "code",
   "execution_count": null,
   "metadata": {
    "scrolled": true
   },
   "outputs": [],
   "source": [
    "#create data\n",
    "np.random.seed(1211)\n",
    "rho_list = [0, 0.1, 0.2, 0.3, 0.4, 0.5, 0.6, 0.7, 0.8, 0.9, 0.95]\n",
    "a_list = [1, 0.6, 0.3, 0.15, 0.07, 0.04, 0.02, 0]\n",
    "N = 100\n",
    "k = 10\n",
    "MC = 10\n",
    "Z = np.random.normal(loc=0, scale=1, size=(N, k))\n",
    "beta_0 = 0\n",
    "results = np.zeros(MC)\n",
    "R_freq = np.zeros([len(rho_list), len(a_list)])\n",
    "\n",
    "\n",
    "for a in a_list:\n",
    "    for rho in rho_list:\n",
    "        for l in range(MC):\n",
    "            pi = np.zeros(k)\n",
    "            pi[0] = a\n",
    "            sigma = np.array([[1, rho], [rho, 1]])\n",
    "            eps_v = np.random.multivariate_normal(mean=[0, 0], cov=sigma, size=(N))\n",
    "            eps = eps_v[:, 0]\n",
    "            v = eps_v[:, 1]\n",
    "\n",
    "            X = Z @ pi + v\n",
    "            Y = X * beta_0 + eps\n",
    "            Pz = Z @ np.linalk_AR_r_LM_beta(Y, X, beta_0, Z)g.inv(Z.T @ Z) @ Z.T\n",
    "\n",
    "\n",
    "            beta_2SLS = (X.T @ Pz @ X) ** (-1) * (X.T @ Pz @ Y)\n",
    "            residuals = Y - X.T * beta_2SLS\n",
    "            Shat = np.zeros((10, 10))\n",
    "            for i in range(Z.shape[1]):\n",
    "                Shat += N ** (-1) * residuals[i] ** 2 * (np.outer(Z[i, ], Z[i, ]))\n",
    "\n",
    "\n",
    "            beta_2SLS_var = N * (X.T @ Pz @ X) ** (-1) * \\\n",
    "                            (X.T @ Z @ np.linalg.inv(Z.T @ Z) @ Shat @ np.linalg.inv(Z.T @ Z) @ Z.T @ X) * \\\n",
    "                            (X.T @ Pz @ X) ** (-1)\n",
    "\n",
    "            tstat = (beta_2SLS - beta_0) / np.sqrt(beta_2SLS_var)\n",
    "            results[l] = (tstat < -1.96) | (tstat > 1.96)\n",
    "            \n",
    "        R_freq[rho_list.index(rho), a_list.index(a)] = round(np.mean(results), 3)"
   ]
  },
  {
   "cell_type": "code",
   "execution_count": null,
   "metadata": {},
   "outputs": [],
   "source": [
    "df = pd.DataFrame(R_freq, rho_list)\n",
    "df.columns = a_list\n",
    "#df.set_index(rho_list)\n",
    "print(df)\n",
    "\n",
    "\n",
    "for f in range(8):\n",
    "    plt.plot(R_freq[:, f])\n",
    "    plt.ylabel('rej frequency')\n",
    "    plt.title('a is ' + str(a_list[f]))\n",
    "    plt.show()\n"
   ]
  },
  {
   "cell_type": "markdown",
   "metadata": {},
   "source": [
    "## Question 2"
   ]
  },
  {
   "cell_type": "code",
   "execution_count": null,
   "metadata": {},
   "outputs": [],
   "source": [
    "import numpy as np\n",
    "from numpy.linalg import inv as inv\n",
    "import pandas as pd\n",
    "import matplotlib.pyplot as plt"
   ]
  },
  {
   "cell_type": "code",
   "execution_count": null,
   "metadata": {},
   "outputs": [],
   "source": [
    "def projection_matrix(X):\n",
    "    if X.shape == (X.shape[0],):\n",
    "        return np.outer(X, X) * ((X.T @ X) ** (-1)) \n",
    "    else:\n",
    "        return X @ np.linalg.inv(X.T @ X) @ X.T\n",
    "        \n",
    "\n",
    "def orthogonal_projection_matrix(X):\n",
    "    return np.identity(X.shape[0]) - projection_matrix(X)\n",
    "\n",
    "def pi_sim(y, X, betaH0, Z):\n",
    "    \n",
    "    N = Z.shape[0]\n",
    "    k = Z.shape[1]\n",
    "    \n",
    "    eps = y - X * betaH0\n",
    "    sigma_eps_hat = (1 / (N - k)) * (y - X * betaH0).T @ orthogonal_projection_matrix(Z) @ (y - X * betaH0)\n",
    "    sigma_eps_V_hat = (1 / (N - k)) * (y - X * betaH0).T @ orthogonal_projection_matrix(Z) @ X\n",
    "    sigma_V_eps_hat = (1 / (N - k)) * X.T @ orthogonal_projection_matrix(Z) @ (y - X * betaH0)\n",
    "    sigma_V_hat = (1 / (N - k)) * X.T @ orthogonal_projection_matrix(Z) @ X\n",
    "    \n",
    "    rho_hat = sigma_eps_hat / sigma_eps_V_hat\n",
    "    \n",
    "    pi_sim = inv(Z.T @ Z) @ Z.T @ (X - eps * rho_hat)\n",
    "    \n",
    "    return pi_sim, sigma_eps_hat, sigma_eps_V_hat, sigma_V_eps_hat, sigma_V_hat\n",
    "    \n",
    "def k_AR_r_LM_beta(y, X, betaH0, Z):\n",
    "    pi, sigma_eps_hat, sigma_eps_V_hat, sigma_V_eps_hat, sigma_V_hat = pi_sim(y, X, betaH0, Z)\n",
    "    \n",
    "    Sigma_hat_VV_dot_eps = sigma_V_hat - (sigma_V_eps_hat * sigma_eps_V_hat) / sigma_eps_hat\n",
    "    \n",
    "    k_AR_beta = (1 / sigma_eps_hat) * (y - X * betaH0).T @ projection_matrix(Z) @ (y - X * betaH0)\n",
    "    r_beta = (1 / Sigma_hat_VV_dot_eps) * pi.T @ (Z.T @ Z) @ pi    \n",
    "    LM_beta = (1 / sigma_eps_hat) * (y - X * betaH0).T @ projection_matrix(Z @ pi) @ (y - X * betaH0)\n",
    "    \n",
    "    return k_AR_beta, r_beta, LM_beta\n",
    "\n",
    "def LR_beta(y, X, betaH0, Z):\n",
    "    k_AR_beta, r_beta, LM_beta = k_AR_r_LM_beta(y, X, betaH0, Z)\n",
    "    \n",
    "    return (0.5) * (k_AR_beta - r_beta) + np.sqrt((k_AR_beta + r_beta) ** 2 - 4 * r_beta * (k_AR_beta - LM_beta))"
   ]
  },
  {
   "cell_type": "code",
   "execution_count": null,
   "metadata": {},
   "outputs": [],
   "source": [
    "#create data\n",
    "np.random.seed(1211)\n",
    "rho_list = [0]#, 0.1, 0.2, 0.3, 0.4, 0.5, 0.6, 0.7, 0.8, 0.9, 0.95]\n",
    "a_list = [1]#, 0.6, 0.3, 0.15, 0.07, 0.04, 0.02, 0]\n",
    "N = 100\n",
    "k = 10\n",
    "MC = 5000\n",
    "Z = np.random.normal(loc=0, scale=1, size=(N, k))\n",
    "beta_0 = 0\n",
    "LR_reject = np.zeros(MC)\n",
    "r_beta = np.zeros(MC)\n",
    "R_freq = pd.DataFrame({'r_beta': [], 'LR' : []})\n",
    "\n",
    "\n",
    "for a in a_list:\n",
    "    for rho in rho_list:\n",
    "        for l in range(MC):\n",
    "            pi = np.zeros(k)\n",
    "            pi[0] = a\n",
    "            sigma = np.array([[1, rho], [rho, 1]])\n",
    "            eps_v = np.random.multivariate_normal(mean=[0, 0], cov=sigma, size=(N))\n",
    "            eps = eps_v[:, 0]\n",
    "            v = eps_v[:, 1]\n",
    "\n",
    "            X = Z @ pi + v\n",
    "            Y = X * beta_0 + eps\n",
    "            \n",
    "            LR_reject[l] = LR_beta(Y, X, beta_0, Z)\n",
    "            r_beta[l] = k_AR_r_LM_beta(Y, X, beta_0, Z)[1]\n",
    "            \n",
    "            \n",
    "        #R_freq = R_freq.append(pd.DataFrame({'r_beta' : [k_AR_r_LM_beta(Y, X, beta_0, Z)[1]], 'LR' : np.mean(LR_reject)}),\n",
    "        #                     ignore_index=True)\n",
    "        \n"
   ]
  }
 ],
 "metadata": {
  "kernelspec": {
   "display_name": "Python 3",
   "language": "python",
   "name": "python3"
  },
  "language_info": {
   "codemirror_mode": {
    "name": "ipython",
    "version": 3
   },
   "file_extension": ".py",
   "mimetype": "text/x-python",
   "name": "python",
   "nbconvert_exporter": "python",
   "pygments_lexer": "ipython3",
   "version": "3.6.3"
  }
 },
 "nbformat": 4,
 "nbformat_minor": 2
}
