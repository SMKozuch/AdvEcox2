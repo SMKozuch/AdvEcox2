{
 "cells": [
  {
   "cell_type": "markdown",
   "metadata": {},
   "source": [
    "# Advanced Econometrics II\n",
    "### Computer Assignment - Weak identification"
   ]
  },
  {
   "cell_type": "code",
   "execution_count": null,
   "metadata": {},
   "outputs": [],
   "source": [
    "import pandas as pd\n",
    "import numpy as np\n",
    "import statsmodels\n",
    "import matplotlib.pyplot as plt\n",
    "from numpy.linalg import inv as inv\n",
    "import scipy.stats as stats"
   ]
  },
  {
   "cell_type": "code",
   "execution_count": null,
   "metadata": {},
   "outputs": [],
   "source": [
    "def projection_matrix(X):\n",
    "    if X.shape == (X.shape[0],):\n",
    "        X = X.reshape((X.shape[0], 1))\n",
    "        \n",
    "    return X @ np.linalg.inv(X.T @ X) @ X.T\n",
    "        \n",
    "\n",
    "def orthogonal_projection_matrix(X):\n",
    "    return np.identity(X.shape[0]) - projection_matrix(X)\n",
    "\n",
    "def pi_sim(y, X, betaH0, Z):\n",
    "    \n",
    "    if Z.shape == (Z.shape[0],):\n",
    "        Z = Z.reshape((Z.shape[0], 1))\n",
    "        \n",
    "    N = Z.shape[0]\n",
    "    k = Z.shape[1]\n",
    "    \n",
    "    eps = y - X * betaH0\n",
    "    sigma_eps_hat = (1 / (N - k)) * eps.T @ orthogonal_projection_matrix(Z) @ eps\n",
    "    sigma_eps_V_hat = (1 / (N - k)) * eps.T @ orthogonal_projection_matrix(Z) @ X\n",
    "    sigma_V_eps_hat = (1 / (N - k)) * X.T @ orthogonal_projection_matrix(Z) @ eps\n",
    "    sigma_V_hat = (1 / (N - k)) * X.T @ orthogonal_projection_matrix(Z) @ X\n",
    "    \n",
    "    rho_hat = sigma_eps_V_hat / sigma_eps_hat\n",
    "    pi_sim = inv(Z.T @ Z) @ Z.T @ (X - eps * rho_hat)\n",
    "    \n",
    "    return pi_sim, sigma_eps_hat, sigma_eps_V_hat, sigma_V_eps_hat, sigma_V_hat\n",
    "    \n",
    "def k_AR_r_LM_beta(y, X, betaH0, Z):\n",
    "    \n",
    "    if Z.shape == (Z.shape[0],):\n",
    "        Z = Z.reshape((Z.shape[0], 1))\n",
    "    \n",
    "    \n",
    "    pi, sigma_eps_hat, sigma_eps_V_hat, sigma_V_eps_hat, sigma_V_hat = pi_sim(y, X, betaH0, Z)\n",
    " \n",
    "    eps = y - X * betaH0\n",
    "    \n",
    "    sigma_hat_VV_dot_eps = sigma_V_hat - (sigma_V_eps_hat * sigma_eps_V_hat) / sigma_eps_hat\n",
    "    \n",
    "    r_beta = (1 / sigma_hat_VV_dot_eps) * pi.T @ (Z.T @ Z) @ pi\n",
    "    LM_beta = (1 / sigma_eps_hat) * eps.T @ projection_matrix(Z @ pi) @ eps\n",
    "    k_AR_beta = (1 / sigma_eps_hat) * eps.T @ projection_matrix(Z) @ eps\n",
    "      \n",
    "    return k_AR_beta, r_beta, LM_beta\n",
    "\n",
    "def LR_beta(y, X, betaH0, Z):\n",
    "    k_AR_beta, r_beta, LM_beta = k_AR_r_LM_beta(y, X, betaH0, Z)\n",
    "    \n",
    "    return (0.5) * (k_AR_beta - r_beta + np.sqrt((k_AR_beta + r_beta) ** 2 - 4 * r_beta * (k_AR_beta - LM_beta)))"
   ]
  },
  {
   "cell_type": "markdown",
   "metadata": {},
   "source": [
    "## Question 1"
   ]
  },
  {
   "cell_type": "code",
   "execution_count": null,
   "metadata": {
    "scrolled": true
   },
   "outputs": [],
   "source": [
    "#create data\n",
    "rho_list = [0, 0.1, 0.2, 0.3, 0.4, 0.5, 0.6, 0.7, 0.8, 0.9, 0.95]\n",
    "a_list = [1, 0.6, 0.3, 0.15, 0.07, 0.04, 0.02, 0]\n",
    "N = 100\n",
    "k = 10\n",
    "MC = 5000\n",
    "Z = np.random.normal(loc=0, scale=1, size=(N, k))\n",
    "beta_0 = 0\n",
    "results = np.zeros(MC)\n",
    "R_freq = np.zeros([len(rho_list), len(a_list)])\n",
    "\n",
    "\n",
    "for a in a_list:\n",
    "    for rho in rho_list:\n",
    "        for l in range(MC):\n",
    "            np.random.seed(1211)\n",
    "            pi = np.zeros(k)\n",
    "            pi[0] = a\n",
    "            sigma = np.array([[1, rho], [rho, 1]])\n",
    "            eps_v = np.random.multivariate_normal(mean=[0, 0], cov=sigma, size=(N))\n",
    "            eps = eps_v[:, 0]\n",
    "            v = eps_v[:, 1]\n",
    "\n",
    "            X = Z @ pi + v\n",
    "            Y = X * beta_0 + eps\n",
    "            Pz = Z @ np.linalg.inv(Z.T @ Z) @ Z.T\n",
    "\n",
    "\n",
    "            beta_2SLS = (X.T @ Pz @ X) ** (-1) * (X.T @ Pz @ Y)\n",
    "            residuals = Y - X.T * beta_2SLS\n",
    "            Shat = np.zeros((10, 10))\n",
    "            for i in range(Z.shape[1]):\n",
    "                Shat += (N-k) ** (-1) * residuals[i] ** 2 * (np.outer(Z[i, ], Z[i, ]))\n",
    "\n",
    "            beta_2SLS_var = (N-1) ** (-1) * (Y - X * beta_2SLS).T @ (Y - X * beta_2SLS) *\\\n",
    "                            (X.T @ Pz @ X) ** (-1)\n",
    "\n",
    "            tstat = (beta_2SLS - beta_0) / np.sqrt(beta_2SLS_var)\n",
    "            results[l] = (tstat < -1.96) | (tstat > 1.96)\n",
    "            \n",
    "        R_freq[rho_list.index(rho), a_list.index(a)] = round(np.mean(results), 3)"
   ]
  },
  {
   "cell_type": "code",
   "execution_count": null,
   "metadata": {},
   "outputs": [],
   "source": [
    "df = pd.DataFrame(R_freq, rho_list)\n",
    "df.columns = a_list\n",
    "#df.set_index(rho_list)\n",
    "print(df)\n",
    "\n",
    "\n",
    "for f in range(8):\n",
    "    plt.plot(R_freq[:, f])\n",
    "    plt.ylabel('rej frequency')\n",
    "    plt.title('a is ' + str(a_list[f]))\n",
    "    plt.xticks(np.arange(11),rho_list)\n",
    "    plt.show()\n",
    "    \n"
   ]
  },
  {
   "cell_type": "markdown",
   "metadata": {},
   "source": [
    "## Question 2"
   ]
  },
  {
   "cell_type": "code",
   "execution_count": null,
   "metadata": {},
   "outputs": [],
   "source": [
    "k = 10\n",
    "MC = 5000\n",
    "\n",
    "r_beta = np.arange(0, 200.25, 0.25)\n",
    "\n",
    "crit_val_95 = pd.DataFrame({'r_beta' : [], 'crit_val' : []})\n",
    "\n",
    "for r in r_beta:\n",
    "    np.random.seed(1211)\n",
    "    vidle_1 = np.random.chisquare(df=1, size=([MC, 1]))\n",
    "    vidle_k = np.random.chisquare(df=k - 1, size=([MC, 1]))\n",
    "    \n",
    "    LR = 0.5 * (vidle_k + vidle_1 - r + np.sqrt((vidle_k + vidle_1 + r) ** 2 - 4 * r * vidle_k))\n",
    "    \n",
    "    LR_crit_val = np.percentile(LR, q=95, interpolation='higher')\n",
    "    \n",
    "    crit_val_95 = crit_val_95.append(pd.DataFrame({'r_beta' : [r], 'crit_val' : [LR_crit_val]}), ignore_index=True)\n",
    "    \n"
   ]
  },
  {
   "cell_type": "code",
   "execution_count": null,
   "metadata": {},
   "outputs": [],
   "source": [
    "crit_val_95.plot(x='r_beta', y='crit_val')\n",
    "plt.title('Critical value function')\n",
    "plt.xlabel('Value of r_beta')\n",
    "plt.ylabel('95% critical value')\n",
    "plt.savefig('CV_2.png',dpi=1000)\n",
    "plt.show()"
   ]
  },
  {
   "cell_type": "markdown",
   "metadata": {},
   "source": [
    "## Question 3"
   ]
  },
  {
   "cell_type": "code",
   "execution_count": null,
   "metadata": {},
   "outputs": [],
   "source": [
    "%%time\n",
    "np.random.seed(1211)\n",
    "rho_list = [0, 0.1, 0.2, 0.3, 0.4, 0.5, 0.6, 0.7, 0.8, 0.9, 0.95]\n",
    "a_list = [1, 0.6, 0.3, 0.15, 0.07, 0.04, 0.02, 0]\n",
    "N = 100\n",
    "k = 10\n",
    "MC = 5000\n",
    "Z = np.random.normal(loc=0, scale=1, size=(N, k))\n",
    "beta_0 = 0\n",
    "LR_reject = np.zeros(MC)\n",
    "r_beta = np.zeros(MC)\n",
    "R_freq = pd.DataFrame({'r_beta': [], 'LR' : []})\n",
    "\n",
    "results_ar = np.zeros(MC)\n",
    "R_freq_AR = np.zeros([len(rho_list), len(a_list)])\n",
    "results_sc = np.zeros(MC)\n",
    "R_freq_SC = np.zeros([len(rho_list), len(a_list)])\n",
    "results_lr = np.zeros(MC)\n",
    "R_freq_LR = np.zeros([len(rho_list), len(a_list)])\n",
    "\n",
    "for a in a_list:\n",
    "    for rho in rho_list:\n",
    "         \n",
    "        vidle_1 = (np.random.chisquare(df=1, size=(1000)))\n",
    "        vidle_k = (np.random.chisquare(df=k - 1, size=(1000)))\n",
    "#         r = k_AR_r_LM_beta(Y, X, beta_0, Z)[1]\n",
    "#         LR_MC = 0.5 * (vidle_k + vidle_1 - r + np.sqrt((vidle_k + vidle_1 + r) ** 2 - 4 * r * vidle_k))\n",
    "        \n",
    "            \n",
    "        for l in range(MC):\n",
    "            pi = np.zeros(k)\n",
    "            pi[0] = a\n",
    "            sigma = np.array([[1, rho], [rho, 1]])\n",
    "            eps_v = np.random.multivariate_normal(mean=[0, 0], cov=sigma, size=(N))\n",
    "            eps = eps_v[:, 0]\n",
    "            v = eps_v[:, 1]\n",
    "\n",
    "            X = Z @ pi + v\n",
    "            Y = X * beta_0 + eps\n",
    "            \n",
    "            #AR stat\n",
    "            arstat = k_AR_r_LM_beta(Y, X, beta_0, Z)[0]\n",
    "            results_ar[l] = arstat > (18.3)\n",
    "            R_freq_AR[rho_list.index(rho), a_list.index(a)] = round(np.mean(results_ar), 3)\n",
    "            \n",
    "            #LM/score stat\n",
    "            scstat = k_AR_r_LM_beta(Y, X, beta_0, Z)[2]\n",
    "            results_sc[l] = scstat > 3.84\n",
    "            R_freq_SC[rho_list.index(rho), a_list.index(a)] = round(np.mean(results_sc), 3)\n",
    "            \n",
    "            #LR stat\n",
    "            r = k_AR_r_LM_beta(Y, X, beta_0, Z)[1]\n",
    "            LR_MC = 0.5 * (vidle_k + vidle_1 - r + np.sqrt((vidle_k + vidle_1 + r) ** 2 - 4 * r * vidle_k))\n",
    "        \n",
    "            lrstat = LR_beta(Y, X, beta_0, Z)\n",
    "            results_lr[l] = lrstat >  np.percentile(LR_MC, q=95, interpolation='higher')\n",
    "            R_freq_LR[rho_list.index(rho), a_list.index(a)] = round(np.mean(results_lr), 3)\n",
    "            \n",
    "   \n",
    "            \n",
    "        #R_freq = R_freq.append(pd.DataFrame({'r_beta' : [k_AR_r_LM_beta(Y, X, beta_0, Z)[1]], 'LR' : np.mean(LR_reject)}),\n",
    "        #                     ignore_index=True)\n",
    "    \n"
   ]
  },
  {
   "cell_type": "code",
   "execution_count": null,
   "metadata": {},
   "outputs": [],
   "source": [
    "#SC\n",
    "dfSC = pd.DataFrame(R_freq_SC, rho_list)\n",
    "dfSC.columns = a_list\n",
    "print(dfSC)\n",
    "\n",
    "R_freqSCt = R_freq_SC.T\n",
    "num_plots = R_freqSCt.shape[0]\n",
    "# colormap = plt.cm.gist_ncar\n",
    "# plt.gca().set_color_cycle([colormap(i)\n",
    "#                            for i in np.linspace(0, 0.9, num_plots)])\n",
    "\n",
    "labels = []\n",
    "for i in range(num_plots):\n",
    "    plt.plot(rho_list, R_freqSCt[i, :])\n",
    "    labels.append(' a = ' + str(a_list[i]))\n",
    "\n",
    "plt.legend(labels, ncol=4, loc='lower center', \n",
    "           columnspacing=1.0, labelspacing=0.0,\n",
    "           handletextpad=0.0, handlelength=1.5,\n",
    "           fancybox=True, shadow=True)\n",
    "plt.ylim( (0.02, 0.12) )\n",
    "plt.title('Score Test')\n",
    "plt.xlabel('value of rho')\n",
    "plt.ylabel('rejection frequency')\n",
    "plt.savefig('SC_3.png', dpi=1000)\n",
    "plt.show()\n",
    "\n",
    "\n",
    "#AR\n",
    "dfAR = pd.DataFrame(R_freq_AR, rho_list)\n",
    "dfAR.columns = a_list\n",
    "print(dfAR)\n",
    "\n",
    "R_freqARt = R_freq_AR.T\n",
    "num_plots = R_freqARt.shape[0]\n",
    "#colormap = plt.cm.gist_ncar\n",
    "#plt.gca().set_prop_cycle([plt.cm.spectral(i) for i in np.linspace(0, 1, 8)])\n",
    "#plt.set_prop_cycle('color',plt.cm.spectral(np.linspace(0,1,8)))\n",
    "\n",
    "#ax.set_prop_cycle('color',plt.cm.spectral(np.linspace(0,1,30)))\n",
    "\n",
    "labels = []\n",
    "for i in range(num_plots):\n",
    "    plt.plot(rho_list, R_freqARt[i, :])\n",
    "    labels.append(' a = ' + str(a_list[i]))\n",
    "\n",
    "plt.legend(labels, ncol=4, loc='lower center', \n",
    "           columnspacing=1.0, labelspacing=0.0,\n",
    "           handletextpad=0.0, handlelength=1.5,\n",
    "           fancybox=True, shadow=True)\n",
    "plt.ylim( (0.02, 0.12) )\n",
    "plt.title('Anderson Rubin Test')\n",
    "plt.xlabel('value of rho')\n",
    "plt.ylabel('rejection frequency')\n",
    "plt.savefig('AR_3', dpi=1000)\n",
    "plt.show()   \n",
    "\n",
    "\n",
    "#LR\n",
    "dfLR = pd.DataFrame(R_freq_LR, rho_list)\n",
    "dfLR.columns = a_list\n",
    "print(dfLR)\n",
    "\n",
    "R_freqLRt = R_freq_LR.T\n",
    "num_plots = R_freqLRt.shape[0]\n",
    "# colormap = plt.cm.gist_ncar\n",
    "# plt.gca().set_color_cycle([colormap(i)\n",
    "#                            for i in np.linspace(0, 0.9, num_plots)])\n",
    "\n",
    "labels = []\n",
    "for i in range(num_plots):\n",
    "    plt.plot(rho_list, R_freqLRt[i, :])\n",
    "    labels.append(' a = ' + str(a_list[i]))\n",
    "\n",
    "plt.legend(labels, ncol=4, loc='lower center', \n",
    "           columnspacing=1.0, labelspacing=0.0,\n",
    "           handletextpad=0.0, handlelength=1.5,\n",
    "           fancybox=True, shadow=True)\n",
    "plt.ylim( (0, 0.125) )\n",
    "plt.title('Likelihood Ratio Test')\n",
    "plt.xlabel('value of rho')\n",
    "plt.ylabel('rejection frequency')\n",
    "plt.savefig('LR_3.png',dpi=1000)\n",
    "plt.show()"
   ]
  },
  {
   "cell_type": "markdown",
   "metadata": {},
   "source": [
    "## Question 4"
   ]
  },
  {
   "cell_type": "code",
   "execution_count": null,
   "metadata": {},
   "outputs": [],
   "source": [
    "k = 4\n",
    "MC = 5000\n",
    "\n",
    "r_beta = np.arange(0, 200.25, 0.25)\n",
    "\n",
    "crit_val_95 = pd.DataFrame({'r_beta' : [], 'crit_val' : []})\n",
    "\n",
    "for r in r_beta:\n",
    "    np.random.seed(1211)\n",
    "    vidle_1 = np.random.chisquare(df=1, size=([MC, 1]))\n",
    "    vidle_k = np.random.chisquare(df=k - 1, size=([MC, 1]))\n",
    "    \n",
    "    LR = 0.5 * (vidle_k + vidle_1 - r + np.sqrt((vidle_k + vidle_1 + r) ** 2 - 4 * r * vidle_k))\n",
    "    \n",
    "    LR_crit_val = np.percentile(LR, q=95, interpolation='higher')\n",
    "    \n",
    "    \n",
    "    \n",
    "    crit_val_95 = crit_val_95.append(pd.DataFrame({'r_beta' : [r], 'crit_val' : [LR_crit_val]}), ignore_index=True)\n",
    "    \n"
   ]
  },
  {
   "cell_type": "code",
   "execution_count": null,
   "metadata": {},
   "outputs": [],
   "source": [
    "crit_val_95.plot(x='r_beta', y='crit_val')\n",
    "plt.title('Critical value function')\n",
    "plt.xlabel('Value of r_beta')\n",
    "plt.ylabel('95% critical value')\n",
    "plt.savefig('CV_4.png',dpi=1000)\n",
    "plt.show()"
   ]
  },
  {
   "cell_type": "markdown",
   "metadata": {},
   "source": [
    "## Question 5"
   ]
  },
  {
   "cell_type": "code",
   "execution_count": null,
   "metadata": {},
   "outputs": [],
   "source": [
    "import pandas as pd\n",
    "import numpy as np\n",
    "import statsmodels\n",
    "import matplotlib.pyplot as plt\n",
    "from numpy.linalg import inv as inv\n",
    "import scipy.stats as stats"
   ]
  },
  {
   "cell_type": "code",
   "execution_count": null,
   "metadata": {},
   "outputs": [],
   "source": [
    "data = pd.read_csv('dest.csv', \n",
    "                header=None, \n",
    "                names=['age', 'age2', 'ed',\n",
    "                       'exper', 'exper2', 'nearc2',\n",
    "                       'nearc4', 'nearc4a', 'nearc4b',\n",
    "                       'race', 'smsa', 'south', 'wage'])"
   ]
  },
  {
   "cell_type": "code",
   "execution_count": null,
   "metadata": {},
   "outputs": [],
   "source": [
    "ys = data.loc[:, 'wage'].values\n",
    "Xs = data.loc[:, 'ed'].values\n",
    "#Z = data.loc[:, ['nearc2', 'nearc4', 'nearc4a', 'nearc4b']]\n",
    "W_noC = data.loc[:, ['exper', 'exper2', 'south', 'smsa', 'race']]\n",
    "constant = pd.DataFrame({'constant' : np.ones(W_noC.shape[0])})\n",
    "W = pd.concat([W_noC, constant], axis=1).values"
   ]
  },
  {
   "cell_type": "markdown",
   "metadata": {},
   "source": [
    "#### Subquestion a"
   ]
  },
  {
   "cell_type": "code",
   "execution_count": null,
   "metadata": {},
   "outputs": [],
   "source": [
    "Zs = data.loc[:, 'nearc2'].values\n",
    "Zs = Zs.reshape((Zs.shape[0], 1))\n",
    "\n",
    "Mw = orthogonal_projection_matrix(W)\n",
    "\n",
    "y = Mw @ ys\n",
    "X = Mw @ Xs\n",
    "Z = Mw @ Zs"
   ]
  },
  {
   "cell_type": "code",
   "execution_count": null,
   "metadata": {},
   "outputs": [],
   "source": [
    "%%time\n",
    "\n",
    "N = Z.shape[0]\n",
    "k = Z.shape[1]\n",
    "beta = list(np.arange(-2, 1.01, 0.01))\n",
    "beta = [round(b, 3) for b in beta]\n",
    "\n",
    "AR_crit_val = np.repeat(stats.chi2.ppf(q=0.95, df=k) / k, len(beta))\n",
    "AR_stat = np.zeros(len(beta))\n",
    "t_stat = np.zeros(len(beta))\n",
    "\n",
    "beta_2SLS = (X.T @ projection_matrix(Z) @ X) ** (-1) * (X.T @ projection_matrix(Z) @ y)\n",
    "beta_2SLS_var = (N - 1) ** (-1) * (y - X * beta_2SLS).T @ (y - X * beta_2SLS) *\\\n",
    "                            (X.T @ projection_matrix(Z) @ X) ** (-1)\n",
    "\n",
    "t_crit_val_lower = np.repeat(beta_2SLS - 1.96 * np.sqrt(beta_2SLS_var), len(beta))\n",
    "t_crit_val_upper = np.repeat(beta_2SLS + 1.96 * np.sqrt(beta_2SLS_var), len(beta))\n",
    "\n",
    "\n",
    "for b in beta:    \n",
    "    np.random.seed(1211)\n",
    "    \n",
    "    eps = y - X * b\n",
    "    AR_stat[beta.index(b)] = ((eps.T @ projection_matrix(Z) @ eps) / k) / ((eps.T @ orthogonal_projection_matrix(Z) @ eps) / (N - k))\n",
    "    t_stat[beta.index(b)] = (beta_2SLS - b) / np.sqrt(beta_2SLS_var)\n"
   ]
  },
  {
   "cell_type": "code",
   "execution_count": null,
   "metadata": {},
   "outputs": [],
   "source": [
    "plt.plot(beta, AR_crit_val, 'tab:blue', label='AR_critical')\n",
    "plt.plot(beta, AR_stat, 'tab:orange', label='AR_stat')\n",
    "plt.plot(beta, np.repeat(0, AR_stat.shape[0]), 'xkcd:black')\n",
    "plt.title('Critical set of AR statistic')\n",
    "plt.xlabel('Value of beta')\n",
    "plt.ylabel('Statistic value')\n",
    "plt.savefig('5_a.png',dpi=1000)\n",
    "plt.legend()\n",
    "plt.show()"
   ]
  },
  {
   "cell_type": "code",
   "execution_count": null,
   "metadata": {},
   "outputs": [],
   "source": [
    "plt.plot(beta, t_stat, 'tab:orange', label='t_stat')\n",
    "plt.plot(beta, t_crit_val_lower, 'tab:blue', label='t_crit_val')\n",
    "plt.plot(beta, t_crit_val_upper, 'tab:blue', label='t_crit_val')\n",
    "plt.xlim((0.1, 0.5))\n",
    "plt.ylim((t_crit_val_lower[0] - 0.5, t_crit_val_upper[0] + 0.5))\n",
    "plt.title('Test statistic of t-test')\n",
    "plt.xlabel('Value of beta')\n",
    "plt.ylabel('Statistic value')\n",
    "plt.legend()\n",
    "plt.savefig('5_a_t.png', dpi=1000)\n",
    "plt.show()"
   ]
  },
  {
   "cell_type": "markdown",
   "metadata": {},
   "source": [
    "#### Subquestion c"
   ]
  },
  {
   "cell_type": "code",
   "execution_count": null,
   "metadata": {},
   "outputs": [],
   "source": [
    "%%time\n",
    "\n",
    "beta = list(np.arange(0, 150, 1))\n",
    "beta = [round(b, 1) for b in beta]\n",
    "\n",
    "AR_crit_val = np.repeat(stats.chi2.ppf(q=0.95, df=k) / k, len(beta))\n",
    "AR_stat = np.zeros(len(beta))\n",
    "F_stat = np.zeros(len(beta))\n",
    "\n",
    "pi_hat = inv(Z.T @ Z) @ Z.T @ X\n",
    "sigma_vv_hat = (X.T @ orthogonal_projection_matrix(Z) @ X) / (N - k)\n",
    "F_stat = (pi_hat @ Z.T @ Z @ pi_hat) / (k * sigma_vv_hat)\n",
    "\n",
    "for b in beta:\n",
    "    eps = y - X * b\n",
    "    \n",
    "    AR_stat[beta.index(b)] = ((eps.T @ projection_matrix(Z) @ eps) / k) / ((eps.T @ orthogonal_projection_matrix(Z) @ eps) / (N - k))"
   ]
  },
  {
   "cell_type": "code",
   "execution_count": null,
   "metadata": {},
   "outputs": [],
   "source": [
    "plt.plot(beta, AR_crit_val, 'tab:blue')\n",
    "plt.plot(beta, AR_stat, 'tab:orange')\n",
    "plt.legend()\n",
    "plt.show()"
   ]
  },
  {
   "cell_type": "code",
   "execution_count": null,
   "metadata": {},
   "outputs": [],
   "source": [
    "F_stat"
   ]
  },
  {
   "cell_type": "markdown",
   "metadata": {},
   "source": [
    "#### Subquestion e"
   ]
  },
  {
   "cell_type": "code",
   "execution_count": null,
   "metadata": {},
   "outputs": [],
   "source": [
    "Zs = data.loc[:, ['nearc4', 'nearc2', 'nearc4a', 'nearc4b']].values\n",
    "\n",
    "Mw = orthogonal_projection_matrix(W)\n",
    "\n",
    "y = Mw @ ys\n",
    "X = Mw @ Xs\n",
    "Z = Mw @ Zs"
   ]
  },
  {
   "cell_type": "code",
   "execution_count": null,
   "metadata": {},
   "outputs": [],
   "source": [
    "%%time\n",
    "\n",
    "N = Z.shape[0]\n",
    "k = Z.shape[1]\n",
    "\n",
    "beta = list(np.arange(-1, 1.05, 0.05))\n",
    "beta = [round(b, 2) for b in beta]\n",
    "MC = 5000\n",
    "\n",
    "AR_crit_val = np.repeat(stats.chi2.ppf(q=0.95, df=k) / k, len(beta))\n",
    "LM_crit_val = np.repeat(stats.chi2.ppf(q=0.95, df=1), len(beta))\n",
    "AR_stat = np.zeros(len(beta))\n",
    "t_stat = np.zeros(len(beta))\n",
    "LM_stat = np.zeros(len(beta))\n",
    "LR_stat = np.zeros([len(beta), 1])\n",
    "LR_crit_val = np.zeros([len(beta), 1])\n",
    "\n",
    "beta_2SLS = (X.T @ projection_matrix(Z) @ X) ** (-1) * (X.T @ projection_matrix(Z) @ y)\n",
    "beta_2SLS_var = (N - 1) ** (-1) * (y - X * beta_2SLS).T @ (y - X * beta_2SLS) *\\\n",
    "                            (X.T @ projection_matrix(Z) @ X) ** (-1)\n",
    "\n",
    "t_crit_val_lower = np.repeat(beta_2SLS - 1.96 * np.sqrt(beta_2SLS_var), len(beta))\n",
    "t_crit_val_upper = np.repeat(beta_2SLS + 1.96 * np.sqrt(beta_2SLS_var), len(beta))\n",
    "    \n",
    "    \n",
    "for b in beta:    \n",
    "    np.random.seed(1211)\n",
    "    \n",
    "    eps = y - X * b\n",
    "    t_stat[beta.index(b)] = (beta_2SLS - b) / np.sqrt(beta_2SLS_var)\n",
    "    AR_stat[beta.index(b)] = ((eps.T @ projection_matrix(Z) @ eps) / k) / ((eps.T @ orthogonal_projection_matrix(Z) @ eps) / (N - k))\n",
    "    \n",
    "    \n",
    "    r_beta = k_AR_r_LM_beta(y, X, b, Z)[1]\n",
    "    LM_stat[beta.index(b)] = k_AR_r_LM_beta(y, X, b, Z)[2]\n",
    "    \n",
    "    vidle_1 = np.random.chisquare(df=1, size=([MC, 1]))\n",
    "    vidle_k = np.random.chisquare(df=k - 1, size=([MC, 1]))\n",
    "    \n",
    "    LR = 0.5 * (vidle_k + vidle_1 - r_beta + np.sqrt((vidle_k + vidle_1 + r_beta) ** 2 - 4 * r_beta * vidle_k))\n",
    "    \n",
    "    LR_crit_val[beta.index(b)] = np.percentile(LR, q=95, interpolation='higher')\n",
    "    \n",
    "    vidle_1 = np.random.chisquare(df=1, size=([1, 1]))\n",
    "    vidle_k = np.random.chisquare(df=k - 1, size=([1, 1]))\n",
    "    \n",
    "    LR_stat[beta.index(b)] = LR_beta(y, X, b, Z)\n"
   ]
  },
  {
   "cell_type": "code",
   "execution_count": null,
   "metadata": {},
   "outputs": [],
   "source": [
    "plt.plot(beta, LM_crit_val, 'tab:blue', label='LM_crit_val')\n",
    "plt.plot(beta, LM_stat, 'tab:orange', label='LM_stat')\n",
    "plt.plot(beta, np.zeros(len(beta)), 'xkcd:black')\n",
    "plt.title('Test statistic of LM-test')\n",
    "plt.xlabel('Value of beta')\n",
    "plt.ylabel('Statistic value')\n",
    "plt.legend()\n",
    "plt.savefig('5_e_LM.png', dpi=1000)\n",
    "plt.show()"
   ]
  },
  {
   "cell_type": "code",
   "execution_count": null,
   "metadata": {},
   "outputs": [],
   "source": [
    "plt.plot(beta, t_stat, 'tab:orange', label='t_stat')\n",
    "plt.plot(beta, t_crit_val_lower, 'tab:blue', label='t_crit_val')\n",
    "plt.plot(beta, t_crit_val_upper, 'tab:blue', label='t_crit_val')\n",
    "plt.xlim((0.13, 0.17))\n",
    "plt.ylim((t_crit_val_lower[0] - 0.5, t_crit_val_upper[0] + 0.5))\n",
    "plt.title('Test statistic of t-test')\n",
    "plt.xlabel('Value of beta')\n",
    "plt.ylabel('Statistic value')\n",
    "plt.legend()\n",
    "plt.savefig('5_e_t.png', dpi=1000)\n",
    "plt.show()"
   ]
  },
  {
   "cell_type": "markdown",
   "metadata": {},
   "source": [
    "#### Subquestion g"
   ]
  },
  {
   "cell_type": "code",
   "execution_count": null,
   "metadata": {},
   "outputs": [],
   "source": [
    "OIR = min(AR_stat)\n",
    "CV = stats.chi2.ppf(q=0.95, df=3)\n",
    "\n",
    "OIR < CV"
   ]
  }
 ],
 "metadata": {
  "kernelspec": {
   "display_name": "Python 3",
   "language": "python",
   "name": "python3"
  },
  "language_info": {
   "codemirror_mode": {
    "name": "ipython",
    "version": 3
   },
   "file_extension": ".py",
   "mimetype": "text/x-python",
   "name": "python",
   "nbconvert_exporter": "python",
   "pygments_lexer": "ipython3",
   "version": "3.6.3"
  }
 },
 "nbformat": 4,
 "nbformat_minor": 2
}
