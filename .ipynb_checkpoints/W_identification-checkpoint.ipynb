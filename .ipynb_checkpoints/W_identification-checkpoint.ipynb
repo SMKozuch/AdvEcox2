{
 "cells": [
  {
   "cell_type": "markdown",
   "metadata": {},
   "source": [
    "# Ass 2"
   ]
  },
  {
   "cell_type": "markdown",
   "metadata": {},
   "source": [
    "##### setup"
   ]
  },
  {
   "cell_type": "code",
   "execution_count": 96,
   "metadata": {},
   "outputs": [
    {
     "name": "stdout",
     "output_type": "stream",
     "text": [
      "C:\\Users\\Radim\\Documents\\GitHub\\AdvEcox2\n",
      "['age' 'age2' 'ed' 'exper' 'exper2' 'nearc2' 'nearc4' 'nearc4a' 'nearc4b'\n",
      " 'race' 'smsa' 'south' 'wage']\n"
     ]
    }
   ],
   "source": [
    "#%%\n",
    "import pandas as pd\n",
    "import os\n",
    "import numpy as np\n",
    "import statsmodels\n",
    "print(os.getcwd())\n",
    "data = pd.read_csv('dest.csv', \n",
    "                header=None, \n",
    "                names=['age', 'age2', 'ed',\n",
    "                       'exper', 'exper2', 'nearc2',\n",
    "                       'nearc4', 'nearc4a', 'nearc4b',\n",
    "                       'race', 'smsa', 'south', 'wage'])\n",
    "print(d.columns.values)"
   ]
  },
  {
   "cell_type": "markdown",
   "metadata": {},
   "source": [
    "## question 1"
   ]
  },
  {
   "cell_type": "code",
   "execution_count": 111,
   "metadata": {
    "scrolled": true
   },
   "outputs": [],
   "source": [
    "#create data\n",
    "rho_list = [0, 0.1, 0.2, 0.3, 0.4, 0.5, 0.6, 0.7, 0.8, 0.9, 0.95]\n",
    "a_list = [1, 0.6, 0.3, 0.15, 0.07, 0.04, 0.02, 0]\n",
    "N = 100\n",
    "k = 10\n",
    "Z = np.random.normal(loc = 0, scale = 1, size =(N,k))\n",
    "beta_0 = 0\n",
    "\n",
    "for a in a_list:\n",
    "    for rho in rho_list:\n",
    "        pi = np.zeros(k)\n",
    "        pi[0] = a\n",
    "        sigma = np.array([[1, rho], [rho, 1]])\n",
    "        eps_v = np.random.multivariate_normal(mean = [0,0], cov = sigma, size = (N))\n",
    "        eps = eps_v[:,0]\n",
    "        v = eps_v[:,1]\n",
    "        \n",
    "        X = Z @ pi + v\n",
    "        Y = X * beta_0 + eps\n",
    "        Pz = Z @ np.linalg.inv(Z.T @ Z) @ Z.T\n",
    "        \n",
    "        \n",
    "        beta_2SLS = (X.T @ Pz @ X) ** (-1) * (X.T @ Pz @ Y)\n",
    "        residuals = Y - X.T * beta_2SLS\n",
    "        \n",
    "        \n",
    "        beta_2SLS_var = N * (X.T @ Pz @ X) ** (-1) * \\\n",
    "                        (X.T @ Z @ np.linalg.inv(Z.T @ Z) @ Shat @ np.linalg.inv(Z.T @ Z) @ Z.T @ X) * \\\n",
    "                        (X.T @ Pz @ X) ** (-1)\n",
    "#statsmodels.sandbox.regression.gmm.IV2SLS(endog = Y, exog, instrument=None)[source]\n",
    "\n"
   ]
  },
  {
   "cell_type": "code",
   "execution_count": 120,
   "metadata": {},
   "outputs": [
    {
     "data": {
      "text/plain": [
       "array([-0.27789315, -0.28921531, -0.07817582,  0.63414286, -0.2438574 ,\n",
       "       -0.38806444,  0.32752994,  0.10533935,  0.01395879, -0.25108885,\n",
       "       -0.40761386,  0.24266284,  0.16899429, -0.16544255,  0.01884012,\n",
       "        0.35045709, -0.37621363,  0.60535679,  0.07678608,  0.40918929,\n",
       "        0.73260161,  0.26782169, -0.49438151,  0.08927883, -0.22668654,\n",
       "        0.36634984,  0.07188035, -0.26340698,  0.0441804 , -0.2846993 ,\n",
       "       -0.06237324, -0.32064322,  0.04729215,  0.14171728, -0.20522582,\n",
       "       -0.06318943,  0.17784196,  0.09819483,  0.24360504,  0.13043991,\n",
       "       -0.01752782, -0.05056842, -0.16310515,  0.72317283,  0.28479599,\n",
       "       -0.49255599, -0.23978787,  0.17153823, -0.31518297, -0.08413864,\n",
       "       -0.55416288,  0.51902918,  0.12134309, -0.4531086 ,  0.00990715,\n",
       "        0.11293694,  0.02293925, -0.01067979, -0.20830552, -0.23979938,\n",
       "       -0.11556686, -0.34839602,  0.04545664,  0.14066682, -0.33525009,\n",
       "       -1.00527562,  0.35126329, -0.01731619,  0.32398289,  0.25429196,\n",
       "       -0.52374192, -0.07015159,  0.3791586 ,  0.03113049,  0.14969017,\n",
       "        0.17950943, -0.15825027, -0.82761524, -0.27059421, -0.04686881,\n",
       "        0.1903878 , -0.29797173, -0.27016238, -0.19043347,  0.30783115,\n",
       "       -0.58838915,  0.49219539, -0.14590262,  0.41699894,  0.19554531,\n",
       "       -0.356961  ,  0.55209981,  0.44338355, -0.13766985,  0.16662428,\n",
       "       -0.16670886, -0.28853515,  0.3982881 ,  0.14780995,  0.24368192])"
      ]
     },
     "execution_count": 120,
     "metadata": {},
     "output_type": "execute_result"
    }
   ],
   "source": [
    "cau samko"
   ]
  },
  {
   "cell_type": "code",
   "execution_count": 115,
   "metadata": {},
   "outputs": [
    {
     "name": "stdout",
     "output_type": "stream",
     "text": [
      "(10, 100)\n"
     ]
    }
   ],
   "source": [
    "print(Z.T.shape)"
   ]
  },
  {
   "cell_type": "code",
   "execution_count": 82,
   "metadata": {},
   "outputs": [
    {
     "data": {
      "text/plain": [
       "(100,)"
      ]
     },
     "execution_count": 82,
     "metadata": {},
     "output_type": "execute_result"
    }
   ],
   "source": [
    "(np.dot(Z,pi)).shape"
   ]
  },
  {
   "cell_type": "code",
   "execution_count": null,
   "metadata": {},
   "outputs": [],
   "source": [
    "np.array[]"
   ]
  }
 ],
 "metadata": {
  "kernelspec": {
   "display_name": "Python 3",
   "language": "python",
   "name": "python3"
  },
  "language_info": {
   "codemirror_mode": {
    "name": "ipython",
    "version": 3
   },
   "file_extension": ".py",
   "mimetype": "text/x-python",
   "name": "python",
   "nbconvert_exporter": "python",
   "pygments_lexer": "ipython3",
   "version": "3.6.0"
  }
 },
 "nbformat": 4,
 "nbformat_minor": 2
}
