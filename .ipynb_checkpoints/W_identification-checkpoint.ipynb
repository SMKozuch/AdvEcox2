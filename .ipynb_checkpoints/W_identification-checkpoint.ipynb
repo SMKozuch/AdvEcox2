{
 "cells": [
  {
   "cell_type": "markdown",
   "metadata": {},
   "source": [
    "# Ass 2"
   ]
  },
  {
   "cell_type": "markdown",
   "metadata": {},
   "source": [
    "##### setup"
   ]
  },
  {
   "cell_type": "code",
   "execution_count": 2,
   "metadata": {},
   "outputs": [
    {
     "name": "stdout",
     "output_type": "stream",
     "text": [
      "C:\\Users\\Samuel\\OneDrive\\UvA\\S01P03\\Advanced Econometrics II\\Assignments\n",
      "['age' 'age2' 'ed' 'exper' 'exper2' 'nearc2' 'nearc4' 'nearc4a' 'nearc4b'\n",
      " 'race' 'smsa' 'south' 'wage']\n"
     ]
    }
   ],
   "source": [
    "import pandas as pd\n",
    "import os\n",
    "import numpy as np\n",
    "import statsmodels\n",
    "print(os.getcwd())\n",
    "data = pd.read_csv('dest.csv', \n",
    "                header=None, \n",
    "                names=['age', 'age2', 'ed',\n",
    "                       'exper', 'exper2', 'nearc2',\n",
    "                       'nearc4', 'nearc4a', 'nearc4b',\n",
    "                       'race', 'smsa', 'south', 'wage'])\n",
    "print(data.columns.values)"
   ]
  },
  {
   "cell_type": "markdown",
   "metadata": {},
   "source": [
    "## question 1"
   ]
  },
  {
   "cell_type": "code",
   "execution_count": 136,
   "metadata": {
    "collapsed": true,
    "scrolled": true
   },
   "outputs": [],
   "source": [
    "#create data\n",
    "rho_list = [0, 0.1, 0.2, 0.3, 0.4, 0.5, 0.6, 0.7, 0.8, 0.9, 0.95]\n",
    "a_list = [1, 0.6, 0.3, 0.15, 0.07, 0.04, 0.02, 0]\n",
    "np.random.seed(1211)\n",
    "#rho_list = [0, 0.1]\n",
    "#a_list = [1, 0.6]\n",
    "\n",
    "N = 100\n",
    "k = 10\n",
    "Z = np.matrix(np.random.normal(loc=0, scale=1, size=(N, k)))\n",
    "beta_0 = 0\n",
    "MC = 150\n",
    "\n",
    "results = np.zeros([len(rho_list), len(a_list)])\n",
    "\n",
    "for a in a_list:\n",
    "    for rho in rho_list:\n",
    "        \n",
    "        rejection = np.zeros([MC, 1])\n",
    "        \n",
    "        for iter in range(MC):\n",
    "            pi = np.matrix(np.zeros([k, 1]))\n",
    "            pi[0, 0] = a\n",
    "            sigma = np.array([[1, rho], [rho, 1]])\n",
    "            eps_v = np.matrix(np.random.multivariate_normal(mean = [0,0], cov = sigma, size = ([N])))\n",
    "            eps = eps_v[:,0]\n",
    "            v = eps_v[:,1]\n",
    "\n",
    "            X = Z @ pi + v\n",
    "            Y = X * beta_0 + eps\n",
    "            Pz = Z @ np.linalg.inv(Z.T @ Z) @ Z.T\n",
    "\n",
    "\n",
    "            beta_2SLS = (X.T @ Pz @ X) ** (-1) @ (X.T @ Pz @ Y)\n",
    "            residuals = Y - X * beta_2SLS\n",
    "\n",
    "            S_hat = np.matrix(np.zeros([k, k]))\n",
    "\n",
    "            for i in range(N):\n",
    "                S_hat += (1 / N) * (residuals[i, 0] ** 2) * Z[i, :].T @ Z[i, :]\n",
    "\n",
    "            beta_2SLS_var = N * (X.T @ Pz @ X) ** (-1) * \\\n",
    "                            (X.T @ Z @ np.linalg.inv(Z.T @ Z) @ S_hat @ np.linalg.inv(Z.T @ Z) @ Z.T @ X) * \\\n",
    "                            (X.T @ Pz @ X) ** (-1)\n",
    "\n",
    "            t_stat = (beta_2SLS - beta_0) / np.sqrt(beta_2SLS_var)\n",
    "            \n",
    "            rejection[iter] = (t_stat > 1.96) | (t_stat < -1.96)\n",
    "            \n",
    "        results[rho_list.index(rho), a_list.index(a)] = round(np.mean(rejection), 3)\n",
    "            \n",
    "            \n"
   ]
  },
  {
   "cell_type": "code",
   "execution_count": null,
   "metadata": {
    "collapsed": true
   },
   "outputs": [],
   "source": [
    "np.random.seed(1211)\n",
    "rho_list = [0, 0.1, 0.2, 0.3, 0.4, 0.5, 0.6, 0.7, 0.8, 0.9, 0.95]\n",
    "a_list = [1, 0.6, 0.3, 0.15, 0.07, 0.04, 0.02, 0]\n",
    "N = 100\n",
    "k = 10\n",
    "MC = 150\n",
    "Z = np.random.normal(loc = 0, scale = 1, size =(N,k))\n",
    "beta_0 = 0\n",
    "results_MC = np.zeros(MC)\n",
    "R_freq = np.zeros((11,8))\n",
    "for a in a_list:\n",
    "    for rho in rho_list:\n",
    "        for l in range(MC):\n",
    "            pi = np.zeros(k)\n",
    "            pi[0] = a\n",
    "            sigma = np.array([[1, rho], [rho, 1]])\n",
    "            eps_v = np.random.multivariate_normal(mean = [0,0], cov = sigma, size = (N))\n",
    "            eps = eps_v[:,0]\n",
    "            v = eps_v[:,1]\n",
    "\n",
    "            X = Z @ pi + v\n",
    "            Y = X * beta_0 + eps\n",
    "            Pz = Z @ np.linalg.inv(Z.T @ Z) @ Z.T\n",
    "\n",
    "\n",
    "            beta_2SLS = (X.T @ Pz @ X) ** (-1) * (X.T @ Pz @ Y)\n",
    "            residuals = Y - X.T * beta_2SLS\n",
    "            Shat = np.zeros((10,10))\n",
    "            for i in range(Z.shape[1]):\n",
    "                Shat += N ** (-1) * residuals[i] ** 2 * (np.outer(Z[i,], Z[i,]))\n",
    "\n",
    "\n",
    "            beta_2SLS_var = N * (X.T @ Pz @ X) ** (-1) * \\\n",
    "                            (X.T @ Z @ np.linalg.inv(Z.T @ Z) @ Shat @ np.linalg.inv(Z.T @ Z) @ Z.T @ X) * \\\n",
    "                            (X.T @ Pz @ X) ** (-1)\n",
    "\n",
    "            tstat = (beta_2SLS - beta_0)/np.sqrt(beta_2SLS_var)\n",
    "            results_MC[l] = (tstat < -1.96) | (tstat > 1.96)\n",
    "        R_freq[rho_list.index(rho), a_list.index(a)] = round(np.mean(results),3)\n",
    "            "
   ]
  },
  {
   "cell_type": "code",
   "execution_count": 137,
   "metadata": {},
   "outputs": [
    {
     "data": {
      "text/plain": [
       "array([[ 0.113,  0.04 ,  0.053,  0.033,  0.027,  0.007,  0.027,  0.013],\n",
       "       [ 0.053,  0.04 ,  0.073,  0.047,  0.04 ,  0.033,  0.04 ,  0.04 ],\n",
       "       [ 0.053,  0.053,  0.047,  0.1  ,  0.107,  0.04 ,  0.047,  0.113],\n",
       "       [ 0.087,  0.06 ,  0.06 ,  0.127,  0.207,  0.173,  0.14 ,  0.247],\n",
       "       [ 0.1  ,  0.067,  0.14 ,  0.247,  0.287,  0.267,  0.26 ,  0.273],\n",
       "       [ 0.1  ,  0.133,  0.28 ,  0.393,  0.427,  0.387,  0.473,  0.48 ],\n",
       "       [ 0.107,  0.18 ,  0.413,  0.5  ,  0.613,  0.653,  0.7  ,  0.573],\n",
       "       [ 0.08 ,  0.167,  0.46 ,  0.653,  0.8  ,  0.807,  0.793,  0.767],\n",
       "       [ 0.113,  0.3  ,  0.647,  0.833,  0.92 ,  0.927,  0.953,  0.92 ],\n",
       "       [ 0.2  ,  0.327,  0.687,  0.953,  0.993,  0.993,  0.993,  1.   ],\n",
       "       [ 0.207,  0.34 ,  0.8  ,  0.967,  1.   ,  1.   ,  1.   ,  1.   ]])"
      ]
     },
     "execution_count": 137,
     "metadata": {},
     "output_type": "execute_result"
    }
   ],
   "source": [
    "print(results)\n",
    "print(R_freq)"
   ]
  }
 ],
 "metadata": {
  "kernelspec": {
   "display_name": "Python 3",
   "language": "python",
   "name": "python3"
  },
  "language_info": {
   "codemirror_mode": {
    "name": "ipython",
    "version": 3
   },
   "file_extension": ".py",
   "mimetype": "text/x-python",
   "name": "python",
   "nbconvert_exporter": "python",
   "pygments_lexer": "ipython3",
   "version": "3.6.3"
  }
 },
 "nbformat": 4,
 "nbformat_minor": 2
}
