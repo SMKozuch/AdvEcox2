{
 "cells": [
  {
   "cell_type": "markdown",
   "metadata": {},
   "source": [
    "# Ass 2"
   ]
  },
  {
   "cell_type": "markdown",
   "metadata": {},
   "source": [
    "##### setup"
   ]
  },
  {
   "cell_type": "code",
   "execution_count": 96,
   "metadata": {},
   "outputs": [
    {
     "name": "stdout",
     "output_type": "stream",
     "text": [
      "C:\\Users\\Radim\\Documents\\GitHub\\AdvEcox2\n",
      "['age' 'age2' 'ed' 'exper' 'exper2' 'nearc2' 'nearc4' 'nearc4a' 'nearc4b'\n",
      " 'race' 'smsa' 'south' 'wage']\n"
     ]
    }
   ],
   "source": [
    "#%%\n",
    "import pandas as pd\n",
    "import os\n",
    "import numpy as np\n",
    "import statsmodels\n",
    "print(os.getcwd())\n",
    "data = pd.read_csv('dest.csv', \n",
    "                header=None, \n",
    "                names=['age', 'age2', 'ed',\n",
    "                       'exper', 'exper2', 'nearc2',\n",
    "                       'nearc4', 'nearc4a', 'nearc4b',\n",
    "                       'race', 'smsa', 'south', 'wage'])\n",
    "print(d.columns.values)"
   ]
  },
  {
   "cell_type": "markdown",
   "metadata": {},
   "source": [
    "## question 1"
   ]
  },
  {
   "cell_type": "code",
   "execution_count": 111,
   "metadata": {
    "collapsed": true,
    "scrolled": true
   },
   "outputs": [],
   "source": [
    "#create data\n",
    "rho_list = [0, 0.1, 0.2, 0.3, 0.4, 0.5, 0.6, 0.7, 0.8, 0.9, 0.95]\n",
    "a_list = [1, 0.6, 0.3, 0.15, 0.07, 0.04, 0.02, 0]\n",
    "N = 100\n",
    "k = 10\n",
    "Z = np.random.normal(loc = 0, scale = 1, size =(N,k))\n",
    "beta_0 = 0\n",
    "\n",
    "for a in a_list:\n",
    "    for rho in rho_list:\n",
    "        pi = np.zeros(k)\n",
    "        pi[0] = a\n",
    "        sigma = np.array([[1, rho], [rho, 1]])\n",
    "        eps_v = np.random.multivariate_normal(mean = [0,0], cov = sigma, size = (N))\n",
    "        eps = eps_v[:,0]\n",
    "        v = eps_v[:,1]\n",
    "        \n",
    "        X = Z @ pi + v\n",
    "        Y = X * beta_0 + eps\n",
    "        Pz = Z @ np.linalg.inv(np.transpose(Z) @ Z) @ np.transpose(Z)\n",
    "        \n",
    "        beta_2SLS = (np.transpose(X) @ Pz @ X) ** (-1) * (np.transpose(X) @ Pz @ Y)\n",
    "        beta_2SLS_var = N * (np.transpose(X) @ Pz @ X) ** (-1)\n",
    "#statsmodels.sandbox.regression.gmm.IV2SLS(endog = Y, exog, instrument=None)[source]\n",
    "\n"
   ]
  },
  {
   "cell_type": "code",
   "execution_count": 109,
   "metadata": {},
   "outputs": [
    {
     "data": {
      "text/plain": [
       "(100, 10)"
      ]
     },
     "execution_count": 109,
     "metadata": {},
     "output_type": "execute_result"
    }
   ],
   "source": [
    "hahaha"
   ]
  },
  {
   "cell_type": "code",
   "execution_count": 92,
   "metadata": {},
   "outputs": [
    {
     "name": "stdout",
     "output_type": "stream",
     "text": [
      "(100,)\n"
     ]
    }
   ],
   "source": [
    "X.shape\n",
    "print(X.shape)"
   ]
  },
  {
   "cell_type": "code",
   "execution_count": 82,
   "metadata": {},
   "outputs": [
    {
     "data": {
      "text/plain": [
       "(100,)"
      ]
     },
     "execution_count": 82,
     "metadata": {},
     "output_type": "execute_result"
    }
   ],
   "source": [
    "(np.dot(Z,pi)).shape"
   ]
  },
  {
   "cell_type": "code",
   "execution_count": null,
   "metadata": {
    "collapsed": true
   },
   "outputs": [],
   "source": [
    "np.array[]"
   ]
  }
 ],
 "metadata": {
  "kernelspec": {
   "display_name": "Python 3",
   "language": "python",
   "name": "python3"
  },
  "language_info": {
   "codemirror_mode": {
    "name": "ipython",
    "version": 3
   },
   "file_extension": ".py",
   "mimetype": "text/x-python",
   "name": "python",
   "nbconvert_exporter": "python",
   "pygments_lexer": "ipython3",
   "version": "3.6.3"
  }
 },
 "nbformat": 4,
 "nbformat_minor": 2
}
